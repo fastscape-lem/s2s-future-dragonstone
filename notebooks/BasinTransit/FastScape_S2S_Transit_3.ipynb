{
 "cells": [
  {
   "cell_type": "markdown",
   "metadata": {},
   "source": [
    "# Modeling Source-to-Sink systems using FastScape: 8. Storing stratigraphy in a subsiding basin"
   ]
  },
  {
   "cell_type": "markdown",
   "metadata": {},
   "source": [
    "![Lannemezan Fan](LannemezanFan.jpg \"Lannemezan Fan\")"
   ]
  },
  {
   "cell_type": "code",
   "execution_count": null,
   "metadata": {},
   "outputs": [],
   "source": [
    "import xsimlab as xs\n",
    "import xarray as xr\n",
    "import numpy as np\n",
    "import matplotlib.pyplot as plt\n",
    "#plt.style.use('dark_background')\n",
    "%load_ext xsimlab.ipython\n",
    "import hvplot.xarray"
   ]
  },
  {
   "cell_type": "markdown",
   "metadata": {},
   "source": [
    "## The marine model\n",
    "\n",
    "The marine model includes a diffusion model to reproduce the transport of sediment in the marine environment. It also includes a stratigraphic model. In this example, we only wish to have access to the stratigraphic model, so we are going to use the marine model but after stripping it of its marine component, the diffusion, the initial topography, and replace the uplift function by a simpler process (BlockUplift)."
   ]
  },
  {
   "cell_type": "code",
   "execution_count": null,
   "metadata": {},
   "outputs": [],
   "source": [
    "from fastscape.models import marine_model\n",
    "\n",
    "from fastscape.processes import (BlockUplift)\n",
    "\n",
    "transit_model = (marine_model.\n",
    "              drop_processes('diffusion').\n",
    "              drop_processes('init_topography').\n",
    "              drop_processes('uplift').\n",
    "              drop_processes('marine').\n",
    "              drop_processes('sea').\n",
    "              update_processes({'uplift': BlockUplift}))\n",
    "\n",
    "transit_model.visualize()\n"
   ]
  },
  {
   "cell_type": "markdown",
   "metadata": {},
   "source": [
    "We introduce an uplift function that contains (in addition to the uplift in the source area) a subsidence term to create a basin. The subsidence is supposed to decrease linearly from the source/mountain edge to the base level (the opposite boundary)."
   ]
  },
  {
   "cell_type": "code",
   "execution_count": null,
   "metadata": {},
   "outputs": [],
   "source": [
    "xl = 100e3\n",
    "yl = 100e3\n",
    "nx = 101\n",
    "ny = 101\n",
    "X = np.linspace(0,xl,nx)\n",
    "Y = np.linspace(0,yl,ny)\n",
    "x,y = np.meshgrid(X, Y)\n",
    "\n",
    "u0 = 3e-2\n",
    "u1 = -1e-4\n",
    "u = np.zeros((ny,nx))\n",
    "ylim = 2*yl/(nx-1)\n",
    "u = np.where(y<ylim, u0, u1*(yl-y)/(yl-ylim))\n"
   ]
  },
  {
   "cell_type": "markdown",
   "metadata": {},
   "source": [
    "To use the stratigraphy process, one need to specify the ages of the stratigraphic markers (in model time) in the *freeze_time* variable. We also define a new clock at which the stratigraphic information will be stored (for display purposes)."
   ]
  },
  {
   "cell_type": "code",
   "execution_count": null,
   "metadata": {},
   "outputs": [],
   "source": [
    "# %create_setup transit_model --default --verbose\n",
    "import xsimlab as xs\n",
    "\n",
    "ds_in = xs.create_setup(\n",
    "    model=transit_model,\n",
    "    clocks={'time': np.linspace(0,1e7,101),\n",
    "            'strati': np.linspace(0, 1e7, 11)},\n",
    "    master_clock='time',\n",
    "    input_vars={\n",
    "        # nb. of grid nodes in (y, x)\n",
    "        'grid__shape': [ny,nx],\n",
    "        # total grid length in (y, x)\n",
    "        'grid__length': [yl,xl],\n",
    "        # node status at borders\n",
    "        'boundary__status': ['looped','looped','fixed_value','core'],\n",
    "        'uplift__rate': u,\n",
    "        # MFD partioner slope exponent\n",
    "        'flow__slope_exp': 1,\n",
    "        # drainage area exponent\n",
    "        'spl__area_exp': 0.4,\n",
    "        # slope exponent\n",
    "        'spl__slope_exp': 1,\n",
    "        # bedrock channel incision coefficient\n",
    "        'spl__k_coef_bedrock': 1e-5,\n",
    "        # soil (sediment) channel incision coefficient\n",
    "        'spl__k_coef_soil': 1e-5,\n",
    "        # detached bedrock transport/deposition coefficient\n",
    "        'spl__g_coef_bedrock': 1,\n",
    "        # soil (sediment) transport/deposition coefficient\n",
    "        'spl__g_coef_soil': 1,\n",
    "        # surface topography elevation\n",
    "        'topography__elevation': np.random.random((ny,nx)),\n",
    "        # horizon freezing (deactivation) time\n",
    "        'strati__freeze_time': np.linspace(0,1e7,11),\n",
    "    },\n",
    "    output_vars={'topography__elevation': 'time',\n",
    "                'drainage__area': 'time',\n",
    "                'strati__elevation': 'strati'}\n",
    ")\n"
   ]
  },
  {
   "cell_type": "code",
   "execution_count": null,
   "metadata": {},
   "outputs": [],
   "source": [
    "with xs.monitoring.ProgressBar():\n",
    "    ds_out = ds_in.xsimlab.run(model=transit_model)"
   ]
  },
  {
   "cell_type": "code",
   "execution_count": null,
   "metadata": {},
   "outputs": [],
   "source": [
    "from ipyfastscape import TopoViz3d\n",
    "\n",
    "app = TopoViz3d(ds_out, canvas_height=600, time_dim=\"time\")\n",
    "\n",
    "app.components['background_color'].set_color('lightgray')\n",
    "app.components['vertical_exaggeration'].set_factor(5)\n",
    "app.components['timestepper'].go_to_time(ds_out.time[-1])\n",
    "\n",
    "app.show()"
   ]
  },
  {
   "cell_type": "markdown",
   "metadata": {},
   "source": [
    "To visualize the stratigraphy, we can plot the various horizons at the last time step. First along, then across the basin."
   ]
  },
  {
   "cell_type": "code",
   "execution_count": null,
   "metadata": {},
   "outputs": [],
   "source": [
    "fig, ax = plt.subplots(figsize=(12,8))\n",
    "\n",
    "nout = len(ds_out.horizon)\n",
    "for iout in range(nout):\n",
    "    ds_out.strati__elevation.isel(strati=-1).isel(horizon=iout).sel(x=xl/2)[ds_out.y>ylim].plot()"
   ]
  },
  {
   "cell_type": "code",
   "execution_count": null,
   "metadata": {},
   "outputs": [],
   "source": [
    "fig, ax = plt.subplots(figsize=(12,8))\n",
    "\n",
    "nout = len(ds_out.horizon)\n",
    "for iout in range(nout):\n",
    "    ds_out.strati__elevation.isel(strati=-1).isel(horizon=iout).sel(y=ylim).plot()"
   ]
  },
  {
   "cell_type": "markdown",
   "metadata": {},
   "source": [
    "Anaylse this result by producing different cross sections in the $x$- and $y$-directions."
   ]
  },
  {
   "cell_type": "code",
   "execution_count": null,
   "metadata": {},
   "outputs": [],
   "source": []
  }
 ],
 "metadata": {
  "kernelspec": {
   "display_name": "Python [conda env:s2s-future-dragonstone]",
   "language": "python",
   "name": "conda-env-s2s-future-dragonstone-py"
  },
  "language_info": {
   "codemirror_mode": {
    "name": "ipython",
    "version": 3
   },
   "file_extension": ".py",
   "mimetype": "text/x-python",
   "name": "python",
   "nbconvert_exporter": "python",
   "pygments_lexer": "ipython3",
   "version": "3.8.6"
  }
 },
 "nbformat": 4,
 "nbformat_minor": 4
}
