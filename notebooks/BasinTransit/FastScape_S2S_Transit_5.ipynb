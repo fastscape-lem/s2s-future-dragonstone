{
 "cells": [
  {
   "cell_type": "markdown",
   "metadata": {},
   "source": [
    "# Modeling Source-to-Sink systems using FastScape: 10. Cyclic variations in tectonic flux"
   ]
  },
  {
   "cell_type": "markdown",
   "metadata": {},
   "source": [
    "![Lannemezan Fan](LannemezanFan.jpg \"Lannemezan Fan\")"
   ]
  },
  {
   "cell_type": "code",
   "execution_count": null,
   "metadata": {},
   "outputs": [],
   "source": [
    "import xsimlab as xs\n",
    "import xarray as xr\n",
    "import numpy as np\n",
    "import matplotlib.pyplot as plt\n",
    "plt.style.use('dark_background')\n",
    "%load_ext xsimlab.ipython\n",
    "import hvplot.xarray"
   ]
  },
  {
   "cell_type": "markdown",
   "metadata": {},
   "source": [
    "In this exercise, we compute the response of the basin to changes in tectonic flux in the source area that we model using a variable uplift function."
   ]
  },
  {
   "cell_type": "code",
   "execution_count": null,
   "metadata": {},
   "outputs": [],
   "source": [
    "from fastscape.models import marine_model\n",
    "\n",
    "from fastscape.processes import (BlockUplift)\n",
    "\n",
    "transit_model = (marine_model.\n",
    "              drop_processes('diffusion').\n",
    "              drop_processes('init_topography').\n",
    "              drop_processes('uplift').\n",
    "              drop_processes('marine').\n",
    "              drop_processes('sea').\n",
    "              update_processes({'uplift': BlockUplift}))\n",
    "\n",
    "#transit_model.visualize(show_inputs=True)\n"
   ]
  },
  {
   "cell_type": "code",
   "execution_count": null,
   "metadata": {},
   "outputs": [],
   "source": [
    "xl = 100e3\n",
    "yl = 100e3\n",
    "nx = 101\n",
    "ny = 101\n",
    "X = np.linspace(0,xl,nx)\n",
    "Y = np.linspace(0,yl,ny)\n",
    "x,y = np.meshgrid(X, Y)\n",
    "\n",
    "u0 = 3e-2\n",
    "u1 = -1e-4\n",
    "u = np.zeros((ny,nx))\n",
    "ylim = 2*yl/(nx-1)\n",
    "u = np.where(y<ylim, u0, u1*(yl-y)/(yl-ylim))\n",
    "\n"
   ]
  },
  {
   "cell_type": "code",
   "execution_count": null,
   "metadata": {},
   "outputs": [],
   "source": [
    "nstep = 201 # total number of steps\n",
    "neq = 101 # number of steps to reach steady-state\n",
    "\n",
    "teq = 1e7 # time to reach steady-state\n",
    "period = 1e6 # period of climatic forcing\n",
    "tfinal = teq + 5*period # final time\n",
    "\n",
    "# Here we build the time array (note that not all time steps are of the same length)\n",
    "tim1 = np.linspace(0,teq,101) \n",
    "tim2 = np.linspace(teq + period/10, tfinal, 100)\n",
    "tim = np.concatenate((tim1,tim2))\n",
    "\n",
    "# build precipitation array\n",
    "uplift = np.where(tim>teq, 1 + 0.5*np.sin(2*np.pi*(tim-teq)/period), 1)\n",
    "\n",
    "u_tim_space = np.broadcast_to(u,(len(tim),ny,nx)).copy().transpose()\n",
    "u_tim_space = np.where(u_tim_space>0,u_tim_space*uplift,u_tim_space).transpose()\n",
    "u_xr = xr.DataArray(data=u_tim_space, dims=['time','y', 'x'])\n",
    "\n",
    "fig, ax = plt.subplots(nrows = 1, ncols = 1, sharex=False, sharey=True, figsize=(12,7))\n",
    "\n",
    "ax.plot(tim, uplift)\n"
   ]
  },
  {
   "cell_type": "code",
   "execution_count": null,
   "metadata": {},
   "outputs": [],
   "source": [
    "# %create_setup transit_model --default --verbose\n",
    "import xsimlab as xs\n",
    "\n",
    "ds_in = xs.create_setup(\n",
    "    model=transit_model,\n",
    "    clocks={'time': tim,\n",
    "            'strati': tim[::10]},\n",
    "    master_clock='time',\n",
    "    input_vars={\n",
    "        # nb. of grid nodes in (y, x)\n",
    "        'grid__shape': [ny,nx],\n",
    "        # total grid length in (y, x)\n",
    "        'grid__length': [yl,xl],\n",
    "        # node status at borders\n",
    "        'boundary__status': ['looped','looped','fixed_value','core'],\n",
    "        'uplift__rate': u_xr,\n",
    "        # MFD partioner slope exponent\n",
    "        'flow__slope_exp': 1,\n",
    "        # drainage area exponent\n",
    "        'spl__area_exp': m,\n",
    "        # slope exponent\n",
    "        'spl__slope_exp': 1,\n",
    "        # bedrock channel incision coefficient\n",
    "        'spl__k_coef_bedrock': 1e-5,\n",
    "        # soil (sediment) channel incision coefficient\n",
    "        'spl__k_coef_soil': 1e-5,\n",
    "        # detached bedrock transport/deposition coefficient\n",
    "        'spl__g_coef_bedrock': 1,\n",
    "        # soil (sediment) transport/deposition coefficient\n",
    "        'spl__g_coef_soil': 1,\n",
    "        # surface topography elevation\n",
    "        'topography__elevation': np.random.random((ny,nx)),\n",
    "        # horizon freezing (deactivation) time\n",
    "        'strati__freeze_time': tim,\n",
    "    },\n",
    "    output_vars={'topography__elevation': 'time',\n",
    "                'drainage__area': 'time',\n",
    "                'strati__elevation': 'strati'}\n",
    ")\n"
   ]
  },
  {
   "cell_type": "code",
   "execution_count": null,
   "metadata": {},
   "outputs": [],
   "source": [
    "with xs.monitoring.ProgressBar():\n",
    "    ds_out = ds_in.xsimlab.run(model=transit_model)"
   ]
  },
  {
   "cell_type": "code",
   "execution_count": null,
   "metadata": {},
   "outputs": [],
   "source": [
    "from ipyfastscape import TopoViz3d\n",
    "\n",
    "app = TopoViz3d(ds_out, canvas_height=600, time_dim=\"time\")\n",
    "\n",
    "app.components['background_color'].set_color('black')\n",
    "app.components['vertical_exaggeration'].set_factor(5)\n",
    "app.components['timestepper'].go_to_time(ds_out.time[99])\n",
    "\n",
    "app.show()"
   ]
  },
  {
   "cell_type": "code",
   "execution_count": null,
   "metadata": {},
   "outputs": [],
   "source": [
    "fig, ax = plt.subplots(figsize=(12,8))\n",
    "\n",
    "nout = 101\n",
    "for iout in range(nout-1, -1, -1):\n",
    "    ds_out.strati__elevation.isel(strati=-1).isel(horizon=iout).sel(x=xl/2)[ds_out.y>ylim].plot()"
   ]
  },
  {
   "cell_type": "code",
   "execution_count": null,
   "metadata": {},
   "outputs": [],
   "source": [
    "fig, ax = plt.subplots(figsize=(12,8))\n",
    "\n",
    "nout = 101\n",
    "for iout in range(nout-1, -1, -1):\n",
    "    ds_out.strati__elevation.isel(strati=-1).isel(horizon=iout).sel(y=ylim*3).plot()"
   ]
  },
  {
   "cell_type": "code",
   "execution_count": null,
   "metadata": {},
   "outputs": [],
   "source": [
    "nstep = len(ds_out.time)\n",
    "\n",
    "flux = [0]\n",
    "sumtop0 = ds_out.topography__elevation.isel(time=0).where(ds_out.y>=ylim).sum()\n",
    "for step in range(1,nstep):\n",
    "    sumtop = ds_out.topography__elevation.isel(time=step).where(ds_out.y>=ylim).sum()\n",
    "    flux.append(\n",
    "       (sumtop0 - sumtop)/\n",
    "        (ds_out.time.values[step] - ds_out.time.values[step-1])\n",
    "           )\n",
    "    sumtop0 = sumtop\n",
    "\n",
    "total_area = ds_out.grid__shape[0].values*ds_out.grid__shape[1].values\n",
    "flux0 = ds_out.uplift__rate.mean().values*total_area\n",
    "flux = flux/flux0\n"
   ]
  },
  {
   "cell_type": "code",
   "execution_count": null,
   "metadata": {},
   "outputs": [],
   "source": [
    "fig, ax = plt.subplots(nrows = 1, ncols = 1, sharex=False, sharey=True, figsize=(12,7))\n",
    "\n",
    "ax.plot(tim, flux, label='flux')\n",
    "ax.plot(tim, precip, label='precip')\n",
    "ax.legend()"
   ]
  },
  {
   "cell_type": "code",
   "execution_count": null,
   "metadata": {},
   "outputs": [],
   "source": [
    "mid = 101\n",
    "amp_flux = flux[mid:].max() - flux[mid:].min()\n",
    "amp_forcing = precip[mid:].max() - precip[mid:].min()\n",
    "\n",
    "print('forcing:',amp_forcing,'response:', amp_flux)\n",
    "\n"
   ]
  },
  {
   "cell_type": "code",
   "execution_count": null,
   "metadata": {},
   "outputs": [],
   "source": [
    "print('time lag:',(tim[np.argmax(precip[180:])+180] - tim[np.argmax(flux[180:])+180])/period)"
   ]
  },
  {
   "cell_type": "code",
   "execution_count": null,
   "metadata": {},
   "outputs": [],
   "source": []
  }
 ],
 "metadata": {
  "kernelspec": {
   "display_name": "Python [conda env:fastscape]",
   "language": "python",
   "name": "conda-env-fastscape-py"
  },
  "language_info": {
   "codemirror_mode": {
    "name": "ipython",
    "version": 3
   },
   "file_extension": ".py",
   "mimetype": "text/x-python",
   "name": "python",
   "nbconvert_exporter": "python",
   "pygments_lexer": "ipython3",
   "version": "3.8.6"
  }
 },
 "nbformat": 4,
 "nbformat_minor": 4
}
