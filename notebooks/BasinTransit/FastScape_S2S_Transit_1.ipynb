{
 "cells": [
  {
   "cell_type": "markdown",
   "metadata": {},
   "source": [
    "# Modeling Source-to-Sink systems using FastScape: 6. including a deposition term"
   ]
  },
  {
   "cell_type": "markdown",
   "metadata": {},
   "source": [
    "![Lannemezan Fan](LannemezanFan.jpg \"Lannemezan Fan\")"
   ]
  },
  {
   "cell_type": "markdown",
   "metadata": {},
   "source": [
    "## Basic equation\n",
    "\n",
    "In areas of no tectonic uplift (or areas of subsidence), sediments are deposited to form a piedmont and, ultimately, a sedimentary basin. To model this process, we must add a depositional term to the SPL equation. In FastScape, we have implemented an efficient version of the algorithm developed by Davy and Lague (2009):\n",
    "\n",
    "$$\\frac{\\partial h}{\\partial t} = U - K_f A^mS^n + \\frac{G}{A}q_s$$\n",
    "\n",
    "where $q_s$ is the local sedimentary flux and $G$ a dimensionless constant. Note that in the case that is of interest here, $U$ is zero or negative (subsidence is negative uplift)\n",
    "\n",
    "We can derive a steady-state solution in the case $U=0$ but with a constant flux, $q_{s0}$. In this case, the equation resumes to:\n",
    "\n",
    "$$0=-K_fA^mS^n+\\frac{G}{A}q_{s0}$$\n",
    "\n",
    "and hence:\n",
    "\n",
    "$$S=\\frac{\\partial h}{\\partial s}=\\frac{G q_{s0}}{K_f}^{1/n}A^{-(m+1)/n}$$\n",
    "\n",
    "for which a solution can be found, assuming Hack's law:\n",
    "\n",
    "$$h=h_0\\frac{1-(1-s/L)^{1-(m+1)*p/n}}{1-(m+1)p/n}$$\n",
    "\n",
    "with\n",
    "\n",
    "$$h_0=(\\frac{G q_{s0}}{K_fk^{m+1}})^{1/n}L^{1-(m+1)p/n}$$\n",
    "\n",
    "Note that this steady state solution is identical to the solution obtained assuming a diffusion-type equation to represent depositional system. In this case the basic PDE is:\n",
    "\n",
    "$$\\frac{\\partial h}{\\partial t}=U-\\frac{\\partial q_s}{\\partial s}=U+\\frac{\\partial}{\\partial s}K_DA^{m+1}S^n=U+\\frac{\\partial}{\\partial s}K_DA^{m+1}S^{n-1}\\frac{\\partial h}{\\partial s}$$\n",
    "\n",
    "At steady-state and for $U=0$, this equation becomes:\n",
    "\n",
    "$$0=\\frac{\\partial}{\\partial s}K_DA^{m+1}S^n$$\n",
    "\n",
    "which implies that:\n",
    "\n",
    "$$K_DA^{m+1}S^n=C=q_{s0}$$\n",
    "\n",
    "or\n",
    "\n",
    "$$S=(\\frac{q_{s0}}{K_D})^{1/n}A^{-(m+1)/n}$$\n",
    "\n",
    "which is equal to the solution above when $K_D=K_f/G$.\n"
   ]
  },
  {
   "cell_type": "markdown",
   "metadata": {},
   "source": [
    "## Implementation\n",
    "\n",
    "The algorithm as developed in [Yuan et al, 2019](https://agupubs.onlinelibrary.wiley.com/doi/full/10.1029/2018JF004867) is $O(n)$ and implicit. It requires, however, an iterative scheme that is rapidly converging but for $G<1$ only. A fully implicit algorithm that does not require iterations has been recently published by [Hergarten, 2020](https://esurf.copernicus.org/articles/8/841/2020/). Unfortunately, it only works for $n=1$ and cannot be used in cases where local minima exists."
   ]
  },
  {
   "cell_type": "markdown",
   "metadata": {},
   "source": [
    "## Time scale\n",
    "\n",
    "As done in Braun et al 2015, we can derive an expression for the response time of the depositional system subjected to a sedimentary flux, $q_s$:\n",
    "\n",
    "$$\\tau=\\frac{L^{1-(m+1)p/n+p}}{(Gq_s)^{1-1/n}K_f^{1/n}k^{1-(m+1)/n}}$$\n"
   ]
  },
  {
   "cell_type": "markdown",
   "metadata": {},
   "source": [
    "## FastScape Python implementation\n",
    "\n",
    "In FastScape this model has been implemented as the *sediment_model*."
   ]
  },
  {
   "cell_type": "markdown",
   "metadata": {},
   "source": [
    "## Setup"
   ]
  }
 ],
 "metadata": {
  "kernelspec": {
   "display_name": "Python [conda env:s2s-future-dragonstone]",
   "language": "python",
   "name": "conda-env-s2s-future-dragonstone-py"
  },
  "language_info": {
   "codemirror_mode": {
    "name": "ipython",
    "version": 3
   },
   "file_extension": ".py",
   "mimetype": "text/x-python",
   "name": "python",
   "nbconvert_exporter": "python",
   "pygments_lexer": "ipython3",
   "version": "3.8.6"
  }
 },
 "nbformat": 4,
 "nbformat_minor": 4
}
