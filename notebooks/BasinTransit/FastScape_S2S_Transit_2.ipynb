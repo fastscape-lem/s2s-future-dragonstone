{
 "cells": [
  {
   "cell_type": "markdown",
   "metadata": {},
   "source": [
    "# Modeling Source-to-Sink systems using FastScape: 7. Piedmont deposition"
   ]
  },
  {
   "cell_type": "markdown",
   "metadata": {},
   "source": [
    "![Lannemezan Fan](LannemezanFan.jpg \"Lannemezan Fan\")"
   ]
  },
  {
   "cell_type": "code",
   "execution_count": null,
   "metadata": {},
   "outputs": [],
   "source": [
    "import xsimlab as xs\n",
    "import xarray as xr\n",
    "import numpy as np\n",
    "import matplotlib.pyplot as plt\n",
    "#plt.style.use('dark_background')\n",
    "%load_ext xsimlab.ipython\n",
    "import hvplot.xarray"
   ]
  },
  {
   "cell_type": "markdown",
   "metadata": {},
   "source": [
    "## sediment_model\n",
    "\n",
    "In FastScape, we have included a complete sediment model, i.e., that includes the solution of the equation given in the previous notebook:\n",
    "\n",
    "$$\\frac{\\partial h}{\\partial t}=U-K_fA^mS^n + \\frac{Gq_s}{A} + k_d\\nabla^2h$$\n",
    "\n",
    "For the purpose of studying the depositional system, we will neglect the effect of diffusion."
   ]
  },
  {
   "cell_type": "code",
   "execution_count": null,
   "metadata": {},
   "outputs": [],
   "source": [
    "from fastscape.models import sediment_model\n",
    "\n",
    "transit_model = sediment_model.drop_processes('diffusion')\n",
    "\n",
    "transit_model.visualize(show_variables=True)"
   ]
  },
  {
   "cell_type": "markdown",
   "metadata": {},
   "source": [
    "We would like to create a constant flux boundary condition which does not exist in FastScape at this stage. To *mimic* such a boundary condition, we will create a small (1 pixel wide) region in constant uplift along one of the boundaries. The opposite boundary will be assumed to be at base level. The other two, for simplicity, will be cyclic (looped).\n",
    "\n",
    "The flux will be given by the product of the uplift rate by the area of a given pixel.\n",
    "\n",
    "In this first simple experiment, we will assume that the rest of the model does not experience uplift/subsidence. It could be compared to the formation of a piedmont deposit."
   ]
  },
  {
   "cell_type": "code",
   "execution_count": null,
   "metadata": {},
   "outputs": [],
   "source": [
    "xl = 100e3\n",
    "yl = 100e3\n",
    "nx = 101\n",
    "ny = 101\n",
    "X = np.linspace(0,xl,nx)\n",
    "Y = np.linspace(0,yl,ny)\n",
    "x, y = np.meshgrid(X, Y)\n",
    "\n",
    "u0 = 1e-3\n",
    "u = np.zeros((ny,nx))\n",
    "ylim = 2*yl/(ny-1)\n",
    "u = np.where(y<ylim, u0, 0)\n"
   ]
  },
  {
   "cell_type": "code",
   "execution_count": null,
   "metadata": {},
   "outputs": [],
   "source": [
    "# %create_setup transit_model --default --verbose\n",
    "import xsimlab as xs\n",
    "\n",
    "ds_in = xs.create_setup(\n",
    "    model=transit_model,\n",
    "    clocks={'time': np.linspace(0,1e7,101)},\n",
    "    master_clock='time',\n",
    "    input_vars={\n",
    "        # nb. of grid nodes in (y, x)\n",
    "        'grid__shape': [ny,nx],\n",
    "        # total grid length in (y, x)\n",
    "        'grid__length': [yl,xl],\n",
    "        # node status at borders\n",
    "        'boundary__status': ['looped', 'looped', 'fixed_value', 'core'],\n",
    "        # uplift rate\n",
    "        'uplift__rate': u,\n",
    "        # random seed\n",
    "        'init_topography__seed': None,\n",
    "        # MFD partioner slope exponent\n",
    "        'flow__slope_exp': 1,\n",
    "        # drainage area exponent\n",
    "        'spl__area_exp': 0.4,\n",
    "        # slope exponent\n",
    "        'spl__slope_exp': 1,\n",
    "        # bedrock channel incision coefficient\n",
    "        'spl__k_coef_bedrock': 1e-5,\n",
    "        # soil (sediment) channel incision coefficient\n",
    "        'spl__k_coef_soil': 1e-5,\n",
    "        # detached bedrock transport/deposition coefficient\n",
    "        'spl__g_coef_bedrock': 1,\n",
    "        # soil (sediment) transport/deposition coefficient\n",
    "        'spl__g_coef_soil': 1\n",
    "    },\n",
    "    output_vars={'topography__elevation': 'time',\n",
    "                'drainage__area': 'time'}\n",
    ")\n"
   ]
  },
  {
   "cell_type": "code",
   "execution_count": null,
   "metadata": {},
   "outputs": [],
   "source": [
    "with xs.monitoring.ProgressBar():\n",
    "    ds_out = ds_in.xsimlab.run(model=transit_model)"
   ]
  },
  {
   "cell_type": "markdown",
   "metadata": {},
   "source": [
    "Let's look at the solution"
   ]
  },
  {
   "cell_type": "code",
   "execution_count": null,
   "metadata": {},
   "outputs": [],
   "source": [
    "from ipyfastscape import TopoViz3d\n",
    "\n",
    "app = TopoViz3d(ds_out, canvas_height=600, time_dim=\"time\")\n",
    "\n",
    "app.components['background_color'].set_color('black')\n",
    "app.components['vertical_exaggeration'].set_factor(5)\n",
    "app.components['timestepper'].go_to_time(ds_out.time[-1])\n",
    "\n",
    "app.show()"
   ]
  },
  {
   "cell_type": "markdown",
   "metadata": {},
   "source": [
    "We can also draw a section across the model, starting at the limit of the uplifting region:"
   ]
  },
  {
   "cell_type": "code",
   "execution_count": null,
   "metadata": {},
   "outputs": [],
   "source": [
    "fig, ax = plt.subplots(nrows = 1, ncols = 1, sharex=False, sharey=True, figsize=(12,7))\n",
    "\n",
    "ds_out.topography__elevation.isel(time=-1).sel(x=xl/2)[ds_out.y>ylim].plot()\n"
   ]
  },
  {
   "cell_type": "markdown",
   "metadata": {},
   "source": [
    "We can also visualize the evoluton of the topography in the piedmont (averaged i the *x*=direction)"
   ]
  },
  {
   "cell_type": "code",
   "execution_count": null,
   "metadata": {},
   "outputs": [],
   "source": [
    "ds_out.topography__elevation.mean('x').hvplot(x='y',\n",
    "                                          cmap=plt.cm.viridis,\n",
    "                                          groupby='time', width=600)"
   ]
  },
  {
   "cell_type": "markdown",
   "metadata": {},
   "source": [
    "Now analyze the results by producing various cross-sections."
   ]
  },
  {
   "cell_type": "code",
   "execution_count": null,
   "metadata": {},
   "outputs": [],
   "source": []
  }
 ],
 "metadata": {
  "kernelspec": {
   "display_name": "Python [conda env:s2s-future-dragonstone]",
   "language": "python",
   "name": "conda-env-s2s-future-dragonstone-py"
  },
  "language_info": {
   "codemirror_mode": {
    "name": "ipython",
    "version": 3
   },
   "file_extension": ".py",
   "mimetype": "text/x-python",
   "name": "python",
   "nbconvert_exporter": "python",
   "pygments_lexer": "ipython3",
   "version": "3.8.6"
  }
 },
 "nbformat": 4,
 "nbformat_minor": 4
}
