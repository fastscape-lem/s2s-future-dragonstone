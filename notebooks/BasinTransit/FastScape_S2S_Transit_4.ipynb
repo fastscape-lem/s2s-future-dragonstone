{
 "cells": [
  {
   "cell_type": "markdown",
   "metadata": {},
   "source": [
    "# Modeling Source-to-Sink systems using FastScape: 9. Cyclic variations in climate/precipitation"
   ]
  },
  {
   "cell_type": "markdown",
   "metadata": {},
   "source": [
    "![Lannemezan Fan](LannemezanFan.jpg \"Lannemezan Fan\")"
   ]
  },
  {
   "cell_type": "code",
   "execution_count": null,
   "metadata": {},
   "outputs": [],
   "source": [
    "import xsimlab as xs\n",
    "import xarray as xr\n",
    "import numpy as np\n",
    "import matplotlib.pyplot as plt\n",
    "plt.style.use('dark_background')\n",
    "%load_ext xsimlab.ipython\n",
    "import hvplot.xarray"
   ]
  },
  {
   "cell_type": "markdown",
   "metadata": {},
   "source": [
    "In this experiment, we will focus on climatic/precipitation variations that only affect the basin, not the source."
   ]
  },
  {
   "cell_type": "code",
   "execution_count": null,
   "metadata": {},
   "outputs": [],
   "source": [
    "from fastscape.models import marine_model\n",
    "\n",
    "from fastscape.processes import (BlockUplift)\n",
    "\n",
    "transit_model = (marine_model.\n",
    "              drop_processes('diffusion').\n",
    "              drop_processes('init_topography').\n",
    "              drop_processes('uplift').\n",
    "              drop_processes('marine').\n",
    "              drop_processes('sea').\n",
    "              update_processes({'uplift': BlockUplift}))\n",
    "\n",
    "transit_model.visualize(show_inputs=True)\n"
   ]
  },
  {
   "cell_type": "code",
   "execution_count": null,
   "metadata": {},
   "outputs": [],
   "source": [
    "xl = 100e3\n",
    "yl = 100e3\n",
    "nx = 101\n",
    "ny = 101\n",
    "X = np.linspace(0,xl,nx)\n",
    "Y = np.linspace(0,yl,ny)\n",
    "x,y = np.meshgrid(X, Y)\n",
    "\n",
    "u0 = 3e-2\n",
    "u1 = -1e-4\n",
    "u = np.zeros((ny,nx))\n",
    "ylim = 2*yl/(nx-1)\n",
    "u = np.where(y<ylim, u0, u1*(yl-y)/(yl-ylim))\n"
   ]
  },
  {
   "cell_type": "markdown",
   "metadata": {},
   "source": [
    "To make sure that the source area is not affected by the precipitation, we will keep $K_f$ in the source constant. For this we need to create a 3D array for $K_f$ that contains both the spatial and temporal variations."
   ]
  },
  {
   "cell_type": "code",
   "execution_count": null,
   "metadata": {},
   "outputs": [],
   "source": [
    "nstep = 201 # total number of steps\n",
    "neq = 101 # number of steps to reach steady-state\n",
    "\n",
    "teq = 1e7 # time to reach steady-state\n",
    "period = 1e6 # period of climatic forcing\n",
    "tfinal = teq + 5*period # final time\n",
    "\n",
    "# Here we build the time array (note that not all time steps are of the same length)\n",
    "tim1 = np.linspace(0,teq,101) \n",
    "tim2 = np.linspace(teq + period/10, tfinal, 100)\n",
    "tim = np.concatenate((tim1,tim2))\n",
    "\n",
    "# build precipitation array\n",
    "precip = np.where(tim>teq, 1 + 0.5*np.sin(2*np.pi*(tim-teq)/period), 1)\n",
    "\n",
    "# build Kf array and transform it into an xarray of dimension 'time' and 'space'\n",
    "Kf = 1e-5\n",
    "m = 0.4\n",
    "Kf_tim = np.where(tim>teq, Kf*precip**m, Kf)\n",
    "Kf_tim_space = np.broadcast_to(Kf_tim,(ny,nx,len(tim))).copy()\n",
    "Kf_tim_space[:,:2,:] = Kf\n",
    "G_tim = np.where(tim>teq, 0.5/precip, 0.5)\n",
    "\n",
    "# create xarrays to provide adequate dimensions for FastScape\n",
    "Kf_xr = xr.DataArray(data=Kf_tim_space.transpose(), dims=['time','y', 'x'])\n",
    "G_xr = xr.DataArray(data=G_tim, dims=['time'])\n",
    "\n",
    "# plots the variations of $G$ with time\n",
    "fig, ax = plt.subplots(nrows = 1, ncols = 1, sharex=False, sharey=True, figsize=(12,7))\n",
    "\n",
    "ax.plot(tim, G_tim)\n"
   ]
  },
  {
   "cell_type": "code",
   "execution_count": null,
   "metadata": {},
   "outputs": [],
   "source": [
    "# %create_setup transit_model --default --verbose\n",
    "import xsimlab as xs\n",
    "\n",
    "ds_in = xs.create_setup(\n",
    "    model=transit_model,\n",
    "    clocks={'time': tim,\n",
    "            'strati': tim[::10]},\n",
    "    master_clock='time',\n",
    "    input_vars={\n",
    "        # nb. of grid nodes in (y, x)\n",
    "        'grid__shape': [ny,nx],\n",
    "        # total grid length in (y, x)\n",
    "        'grid__length': [yl,xl],\n",
    "        # node status at borders\n",
    "        'boundary__status': ['looped','looped','fixed_value','core'],\n",
    "        'uplift__rate': u,\n",
    "        # MFD partioner slope exponent\n",
    "        'flow__slope_exp': 1,\n",
    "        # drainage area exponent\n",
    "        'spl__area_exp': m,\n",
    "        # slope exponent\n",
    "        'spl__slope_exp': 1,\n",
    "        # bedrock channel incision coefficient\n",
    "        'spl__k_coef_bedrock': Kf_xr,\n",
    "        # soil (sediment) channel incision coefficient\n",
    "        'spl__k_coef_soil': Kf_xr,\n",
    "        # detached bedrock transport/deposition coefficient\n",
    "        'spl__g_coef_bedrock': G_xr,\n",
    "        # soil (sediment) transport/deposition coefficient\n",
    "        'spl__g_coef_soil': G_xr,\n",
    "        # surface topography elevation\n",
    "        'topography__elevation': np.random.random((ny,nx)),\n",
    "        # horizon freezing (deactivation) time\n",
    "        'strati__freeze_time': tim,\n",
    "    },\n",
    "    output_vars={'topography__elevation': 'time',\n",
    "                'drainage__area': 'time',\n",
    "                'strati__elevation': 'strati'}\n",
    ")\n"
   ]
  },
  {
   "cell_type": "code",
   "execution_count": null,
   "metadata": {},
   "outputs": [],
   "source": [
    "with xs.monitoring.ProgressBar():\n",
    "    ds_out = ds_in.xsimlab.run(model=transit_model)"
   ]
  },
  {
   "cell_type": "code",
   "execution_count": null,
   "metadata": {},
   "outputs": [],
   "source": [
    "from ipyfastscape import TopoViz3d\n",
    "\n",
    "app = TopoViz3d(ds_out, canvas_height=600, time_dim=\"time\")\n",
    "\n",
    "app.components['background_color'].set_color('black')\n",
    "app.components['vertical_exaggeration'].set_factor(5)\n",
    "app.components['timestepper'].go_to_time(ds_out.time[99])\n",
    "\n",
    "app.show()"
   ]
  },
  {
   "cell_type": "markdown",
   "metadata": {},
   "source": [
    "We see that the climatic variations are imprinted in the stratigraphy but not everywhere in the basin: the variations are largest in the vicinity of the main gorge coming out of the mountain where the principal fan forms. Away from the fan, the perturbations are not stored.\n",
    "\n",
    "Also th ebasin needs to be relatively filled for the climatic signal to be stored (i.e., the amplitude of the sugnal is much smaller in the early stages of development of the basin)."
   ]
  },
  {
   "cell_type": "code",
   "execution_count": null,
   "metadata": {},
   "outputs": [],
   "source": [
    "fig, ax = plt.subplots(figsize=(12,8))\n",
    "\n",
    "nout = 101\n",
    "for iout in range(nout-1, -1, -1):\n",
    "    ds_out.strati__elevation.isel(strati=-1).isel(horizon=iout).sel(x=xl/2)[ds_out.y>ylim].plot()"
   ]
  },
  {
   "cell_type": "code",
   "execution_count": null,
   "metadata": {},
   "outputs": [],
   "source": [
    "fig, ax = plt.subplots(figsize=(12,8))\n",
    "\n",
    "nout = 101\n",
    "for iout in range(nout-1, -1, -1):\n",
    "    ds_out.strati__elevation.isel(strati=-1).isel(horizon=iout).sel(y=ylim*3).plot()"
   ]
  },
  {
   "cell_type": "markdown",
   "metadata": {},
   "source": [
    "We can also compute the flux coming out of the basin (i.e. across the model boundary) to estimate, by comparison with the precipitation signal, how the climatic signal has been \"filtered\" or not by the basin/depositional system."
   ]
  },
  {
   "cell_type": "code",
   "execution_count": null,
   "metadata": {},
   "outputs": [],
   "source": [
    "nstep = len(ds_out.time)\n",
    "\n",
    "flux = [0]\n",
    "sumtop0 = ds_out.topography__elevation.isel(time=0).where(ds_out.y>=ylim).sum()\n",
    "for step in range(1,nstep):\n",
    "    sumtop = ds_out.topography__elevation.isel(time=step).where(ds_out.y>=ylim).sum()\n",
    "    flux.append(\n",
    "       (sumtop0 - sumtop)/\n",
    "        (ds_out.time.values[step] - ds_out.time.values[step-1])\n",
    "           )\n",
    "    sumtop0 = sumtop\n",
    "\n",
    "total_area = ds_out.grid__shape[0].values*ds_out.grid__shape[1].values\n",
    "flux0 = ds_out.uplift__rate.mean().values*total_area\n",
    "flux = flux/flux0\n"
   ]
  },
  {
   "cell_type": "markdown",
   "metadata": {},
   "source": [
    "Here we plot the normalized excess/default of the out-going flux (at steady-state it should be equal to 0)"
   ]
  },
  {
   "cell_type": "code",
   "execution_count": null,
   "metadata": {},
   "outputs": [],
   "source": [
    "fig, ax = plt.subplots(nrows = 1, ncols = 1, sharex=False, sharey=True, figsize=(12,7))\n",
    "\n",
    "ax.plot(tim, flux, label='flux')\n",
    "ax.plot(tim, precip, label='precip')\n",
    "ax.legend()"
   ]
  },
  {
   "cell_type": "markdown",
   "metadata": {},
   "source": [
    "Finally, we can compute the gain (ratio of relative amplitudes between response and forcing) and time lag."
   ]
  },
  {
   "cell_type": "code",
   "execution_count": null,
   "metadata": {},
   "outputs": [],
   "source": [
    "mid = 101\n",
    "amp_flux = flux[mid:].max() - flux[mid:].min()\n",
    "amp_forcing = precip[mid:].max() - precip[mid:].min()\n",
    "\n",
    "print('forcing:',amp_forcing,'response:', amp_flux)\n",
    "\n"
   ]
  },
  {
   "cell_type": "code",
   "execution_count": null,
   "metadata": {},
   "outputs": [],
   "source": [
    "print('time lag:',(tim[np.argmax(precip[180:])+180] - tim[np.argmax(flux[180:])+180])/period)"
   ]
  },
  {
   "cell_type": "code",
   "execution_count": null,
   "metadata": {},
   "outputs": [],
   "source": []
  }
 ],
 "metadata": {
  "kernelspec": {
   "display_name": "Python [conda env:fastscape]",
   "language": "python",
   "name": "conda-env-fastscape-py"
  },
  "language_info": {
   "codemirror_mode": {
    "name": "ipython",
    "version": 3
   },
   "file_extension": ".py",
   "mimetype": "text/x-python",
   "name": "python",
   "nbconvert_exporter": "python",
   "pygments_lexer": "ipython3",
   "version": "3.8.6"
  }
 },
 "nbformat": 4,
 "nbformat_minor": 4
}
