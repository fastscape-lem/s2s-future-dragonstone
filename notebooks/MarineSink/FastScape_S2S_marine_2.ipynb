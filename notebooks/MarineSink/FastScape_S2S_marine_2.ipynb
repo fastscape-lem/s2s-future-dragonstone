{
 "cells": [
  {
   "cell_type": "markdown",
   "metadata": {},
   "source": [
    "# Modeling Source-to-Sink systems using FastScape: 12. Sediment flux variations"
   ]
  },
  {
   "cell_type": "markdown",
   "metadata": {},
   "source": [
    "![Namibian margin](Margin.jpg \"Namibian margin\")"
   ]
  },
  {
   "cell_type": "code",
   "execution_count": null,
   "metadata": {},
   "outputs": [],
   "source": [
    "import xsimlab as xs\n",
    "import xarray as xr\n",
    "import numpy as np\n",
    "import matplotlib.pyplot as plt\n",
    "plt.style.use('dark_background')\n",
    "%load_ext xsimlab.ipython\n",
    "import hvplot.xarray"
   ]
  },
  {
   "cell_type": "markdown",
   "metadata": {},
   "source": [
    "## The marine model\n",
    "\n",
    "FastScape contains a marine model developed by [Yuan et al, 2019](https://www.sciencedirect.com/science/article/pii/S0012821X19304200).\n",
    "\n",
    "It assumes that sediment transport in the marine domain obeys a linear diffusion law.\n",
    "\n",
    "The model is enriched by several factors/processes:\n",
    "1. two different types of sediment are considered (sand and sill) that have different transport coefficient (diffusivity), typically 10-10$^3^$ m$^2$/yr for silt and 10$^0$-10$^3$ m$^2$/yr fro sand; one also needs to specify the sand-shale ratio of the source (out of the mountain)\n",
    "2. the sediment is allowed to compact according to a compaction low of the form:\n",
    "\n",
    "$$\\phi=\\phi_0e^{-z/z_0}$$\n",
    "\n",
    "Typical value for $\\phi_0$ are 0.63 for silt and 0.49 for sand and 2000 m and 3500 m for $z_0$ for silt and sand, respectively.\n",
    "\n",
    "Note that here we will assume that silt and sand have the same transport coefficient which will ensure rapid convergence of the solution."
   ]
  },
  {
   "cell_type": "code",
   "execution_count": null,
   "metadata": {},
   "outputs": [],
   "source": [
    "from fastscape.models import marine_model\n",
    "\n",
    "from fastscape.processes import (BlockUplift)\n",
    "\n",
    "sink_model = (marine_model.\n",
    "              drop_processes('diffusion').\n",
    "              drop_processes('init_topography').\n",
    "              drop_processes('uplift').\n",
    "              update_processes({'uplift': BlockUplift}))\n",
    "\n",
    "#sink_model.visualize(show_variables=True)\n"
   ]
  },
  {
   "cell_type": "code",
   "execution_count": null,
   "metadata": {},
   "outputs": [],
   "source": [
    "xl = 100e3\n",
    "yl = 100e3\n",
    "nx = 101\n",
    "ny = 101\n",
    "X = np.linspace(0,xl,nx)\n",
    "Y = np.linspace(0,yl,ny)\n",
    "x,y = np.meshgrid(X, Y)\n",
    "\n",
    "u0 = 3e-4\n",
    "u = np.zeros((ny,nx))\n",
    "ylim = 2*yl/(nx-1)\n",
    "u = np.where(y<ylim, u0, 0)\n",
    "\n",
    "h0 = np.where(y>ylim, -1000*(y-ylim)/(yl - ylim),0)\n",
    "h0 = np.where(h0<-400, -400, h0)"
   ]
  },
  {
   "cell_type": "code",
   "execution_count": null,
   "metadata": {},
   "outputs": [],
   "source": [
    "nstep = 201 # total number of steps\n",
    "neq = 101 # number of steps to reach steady-state\n",
    "\n",
    "teq = 1e7 # time to reach steady-state\n",
    "period = 1e6 # period of climatic forcing\n",
    "tfinal = teq + 5*period # final time\n",
    "\n",
    "# Here we build the time array (note that not all time steps are of the same length)\n",
    "tim1 = np.linspace(0,teq,101) \n",
    "tim2 = np.linspace(teq + period/10, tfinal, 100)\n",
    "tim = np.concatenate((tim1,tim2))\n",
    "\n",
    "# build precipitation array\n",
    "uplift = 1 + 0.5*np.sin(2*np.pi*(tim-teq)/period)\n",
    "\n",
    "u_tim_space = np.broadcast_to(u,(len(tim),ny,nx)).copy().transpose()\n",
    "u_tim_space = np.where(u_tim_space>0,u_tim_space*uplift,u_tim_space).transpose()\n",
    "u_xr = xr.DataArray(data=u_tim_space, dims=['time','y', 'x'])\n",
    "\n",
    "fig, ax = plt.subplots(nrows = 1, ncols = 1, sharex=False, sharey=True, figsize=(12,7))\n",
    "\n",
    "ax.plot(tim, uplift)\n",
    "\n"
   ]
  },
  {
   "cell_type": "code",
   "execution_count": null,
   "metadata": {},
   "outputs": [],
   "source": [
    "# %create_setup sink_model --default --verbose\n",
    "import xsimlab as xs\n",
    "\n",
    "ds_in = xs.create_setup(\n",
    "    model=sink_model,\n",
    "    clocks={'time': tim,\n",
    "           'strati': tim[::10]},\n",
    "    master_clock='time',\n",
    "    input_vars={\n",
    "        # nb. of grid nodes in (y, x)\n",
    "        'grid__shape': [ny,nx],\n",
    "        # total grid length in (y, x)\n",
    "        'grid__length': [yl,xl],\n",
    "        # node status at borders\n",
    "        'boundary__status': ['looped','looped','fixed_value','core'],\n",
    "        # MFD partioner slope exponent\n",
    "        'flow__slope_exp': 1,\n",
    "        # drainage area exponent\n",
    "        'spl__area_exp': 0.4,\n",
    "        # slope exponent\n",
    "        'spl__slope_exp': 1,\n",
    "        # bedrock channel incision coefficient\n",
    "        'spl__k_coef_bedrock': 1e-5,\n",
    "        # soil (sediment) channel incision coefficient\n",
    "        'spl__k_coef_soil': 1e-4,\n",
    "        # detached bedrock transport/deposition coefficient\n",
    "        'spl__g_coef_bedrock': 1,\n",
    "        # soil (sediment) transport/deposition coefficient\n",
    "        'spl__g_coef_soil': 1,\n",
    "        # sand/silt ratio of continental sediment source\n",
    "        'marine__ss_ratio_land': 0.5,\n",
    "        # surface (reference) porosity of sand\n",
    "        'marine__porosity_sand': 0.49,\n",
    "        # surface (reference) porosity of silt\n",
    "        'marine__porosity_silt': 0.63,\n",
    "        # e-folding depth of exp. porosity curve for sand\n",
    "        'marine__e_depth_sand': 3.5e3,\n",
    "        # e-folding depth of exp. porosity curve for silt\n",
    "        'marine__e_depth_silt': 2e3,\n",
    "        # diffusivity (transport coefficient) for sand\n",
    "        'marine__diffusivity_sand': 1e1,\n",
    "        # diffusivity (transport coefficient) for silt\n",
    "        'marine__diffusivity_silt': 1e1,\n",
    "        # mean depth (thickness) of marine active layer\n",
    "        'marine__layer_depth': 100,\n",
    "        # surface topography elevation\n",
    "        'topography__elevation': h0,\n",
    "        # sea level (elevation)\n",
    "        'sea__level': 0.0,\n",
    "        # horizon freezing (deactivation) time\n",
    "        'strati__freeze_time': tim,\n",
    "        # uplift rate\n",
    "        'uplift__rate': u_xr,\n",
    "    },\n",
    "    output_vars={'topography__elevation': 'time',\n",
    "                'drainage__area': 'time',\n",
    "                'strati__elevation': 'strati'}\n",
    ")\n"
   ]
  },
  {
   "cell_type": "code",
   "execution_count": null,
   "metadata": {},
   "outputs": [],
   "source": [
    "with xs.monitoring.ProgressBar():\n",
    "    ds_out = ds_in.xsimlab.run(model=sink_model)"
   ]
  },
  {
   "cell_type": "code",
   "execution_count": null,
   "metadata": {},
   "outputs": [],
   "source": [
    "from ipyfastscape import TopoViz3d\n",
    "\n",
    "app = TopoViz3d(ds_out, canvas_height=600, time_dim=\"time\")\n",
    "\n",
    "app.components['background_color'].set_color('black')\n",
    "app.components['vertical_exaggeration'].set_factor(5)\n",
    "app.components['timestepper'].go_to_time(ds_out.time[-1])\n",
    "\n",
    "app.show()"
   ]
  },
  {
   "cell_type": "code",
   "execution_count": null,
   "metadata": {},
   "outputs": [],
   "source": [
    "fig, ax = plt.subplots(figsize=(12,8))\n",
    "\n",
    "nout = 101\n",
    "for iout in range(nout-1, -1, -1):\n",
    "#    ds_out.strati__elevation.isel(strati=-1).isel(horizon=iout).sel(x=xl/2)[ds_out.y>ylim].plot()\n",
    "    ds_out.strati__elevation.isel(strati=-1).isel(horizon=iout).mean('x')[ds_out.y>ylim].plot()"
   ]
  },
  {
   "cell_type": "code",
   "execution_count": null,
   "metadata": {},
   "outputs": [],
   "source": [
    "fig, ax = plt.subplots(figsize=(12,8))\n",
    "\n",
    "nout = 101\n",
    "for iout in range(nout-1, -1, -1):\n",
    "    ds_out.strati__elevation.isel(strati=-1).isel(horizon=iout).sel(y=yl/4).plot()"
   ]
  },
  {
   "cell_type": "code",
   "execution_count": null,
   "metadata": {},
   "outputs": [],
   "source": []
  },
  {
   "cell_type": "raw",
   "metadata": {},
   "source": []
  },
  {
   "cell_type": "code",
   "execution_count": null,
   "metadata": {},
   "outputs": [],
   "source": []
  }
 ],
 "metadata": {
  "kernelspec": {
   "display_name": "Python [conda env:fastscape]",
   "language": "python",
   "name": "conda-env-fastscape-py"
  },
  "language_info": {
   "codemirror_mode": {
    "name": "ipython",
    "version": 3
   },
   "file_extension": ".py",
   "mimetype": "text/x-python",
   "name": "python",
   "nbconvert_exporter": "python",
   "pygments_lexer": "ipython3",
   "version": "3.8.6"
  }
 },
 "nbformat": 4,
 "nbformat_minor": 4
}
