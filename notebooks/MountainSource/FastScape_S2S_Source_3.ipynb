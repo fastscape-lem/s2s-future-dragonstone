{
 "cells": [
  {
   "cell_type": "markdown",
   "metadata": {},
   "source": [
    "# Modeling Source-to-Sink systems using FastScape: 3. Compare to analytical solutions"
   ]
  },
  {
   "cell_type": "markdown",
   "metadata": {},
   "source": [
    "![Henry Mountains](HenryMountains.jpg \"Henry Mountains\")"
   ]
  },
  {
   "cell_type": "markdown",
   "metadata": {},
   "source": [
    "Any numerical model needs to be tested against an analytical solution to check its accuracy. For this, we will compare the FastScape solution to the steady-state profile of a river channel following the SPL.\n",
    "\n",
    "Assuming steady-state means that:\n",
    "\n",
    "$$\\frac{\\partial h}{\\partial t}=0=U-K_fA^mS^n$$\n",
    "\n",
    "if we neglect diffusion. Using Hack's law to relate drainage area to distance along the stream, $L-s$, i.e., measured from the divide:\n",
    "\n",
    "$$A=k(L-s)^p$$\n",
    "\n",
    "we get:\n",
    "\n",
    "$$S=\\frac{\\partial h}{\\partial s}=(U/K_fk^m)^{1/n}(L-s)^{-mp/n}$$\n",
    "\n",
    "which we can solve for $h$ as a function of $s$:\n",
    "\n",
    "$$h = h_0\\frac{1-(1-s/L)^{1-mp/n}}{1-mp/n}$$\n",
    "\n",
    "where:\n",
    "\n",
    "$$h_0=(U/K_fk^m)^{1/n}L^{1-mp/n}$$\n",
    "\n",
    "See Appendix in [Braun et al, 2015](https://esurf.copernicus.org/articles/3/1/2015/esurf-3-1-2015.pdf) for a full derivation. This solution is a simple power law of $s$ that has a shape that only depends on the ratio $mp/n$, as shown in the following figure"
   ]
  },
  {
   "cell_type": "code",
   "execution_count": null,
   "metadata": {},
   "outputs": [],
   "source": [
    "import numpy as np\n",
    "import matplotlib.pyplot as plt\n",
    "#plt.style.use('dark_background')\n",
    "\n",
    "m = 0.4\n",
    "n = 1\n",
    "p = 2\n",
    "\n",
    "fig, ax = plt.subplots(nrows = 1, ncols = 1, sharex=False, sharey=True, figsize=(12,7))\n",
    "\n",
    "ax.plot(np.linspace(0,1,101),(1-(1-np.linspace(0,1,101))**(1-m*p/n))/(1-m*p/n));"
   ]
  },
  {
   "cell_type": "markdown",
   "metadata": {},
   "source": [
    "## Compare FastScape to steady-state profile\n",
    "\n",
    "To compare FastScape to the analytical steady-state solution we will run a new experiment using the following setup:\n",
    "1. create a new model derived from the *basic_model* from which we will drop the *diffusion* process;\n",
    "2. use your own set of model parameters (length, resolution, $m$, $n$, $K_f$, $U$, etc.)\n",
    "2. run the landscape to steady-state; for this you need to run the model for a long time;\n",
    "3. extract from it the largest river profile using a set of tools (functions) that are provided to you (see *Tools.py*);\n",
    "4. for this you will need to extract the drainage area, the receiver and donor information from the last time step in FastScape\n",
    "5. use a new set of bounday conditions (2 opposing looped boundaries, one fixed and one reflective);\n",
    "6. only store the last time step."
   ]
  },
  {
   "cell_type": "code",
   "execution_count": null,
   "metadata": {},
   "outputs": [],
   "source": [
    "import xsimlab as xs # modeling framework used for FastScape development\n",
    "import xarray as xr # xarray is a python package to work with labelled multi-dimensional arrays\n",
    "%load_ext xsimlab.ipython\n",
    "\n",
    "from fastscape.models import basic_model\n",
    "\n",
    "spl_model = basic_model.drop_processes('diffusion')"
   ]
  },
  {
   "cell_type": "code",
   "execution_count": null,
   "metadata": {},
   "outputs": [],
   "source": [
    "spl_model.visualize()\n"
   ]
  },
  {
   "cell_type": "markdown",
   "metadata": {},
   "source": [
    "Now you can build your own setup"
   ]
  },
  {
   "cell_type": "code",
   "execution_count": null,
   "metadata": {},
   "outputs": [],
   "source": [
    "# %create_setup spl_model --default --verbose\n",
    "import xsimlab as xs\n",
    "\n",
    "ds_in = xs.create_setup(\n",
    "    model=spl_model,\n",
    "    clocks={'time': np.linspace(0,2e7,101),\n",
    "           'out': [2e7]},\n",
    "    master_clock = 'time',\n",
    "    input_vars={\n",
    "        # nb. of grid nodes in (y, x)\n",
    "        'grid__shape': [101,101],\n",
    "        # total grid length in (y, x)\n",
    "        'grid__length': [1e5,1e5],\n",
    "        # node status at borders\n",
    "        'boundary__status': ['fixed_value','core','looped','looped'],\n",
    "        # uplift rate\n",
    "        'uplift__rate': 1e-3,\n",
    "        # random seed\n",
    "        'init_topography__seed': None,\n",
    "        # bedrock channel incision coefficient\n",
    "        'spl__k_coef': 1e-5,\n",
    "        # drainage area exponent\n",
    "        'spl__area_exp': 0.4,\n",
    "        # slope exponent\n",
    "        'spl__slope_exp': 1,\n",
    "    },\n",
    "    output_vars={\n",
    "        'topography__elevation': 'out',\n",
    "        'drainage__area': 'out',\n",
    "        'flow__nb_donors': 'out',\n",
    "        'flow__donors': 'out',\n",
    "        'flow__receivers': 'out'}\n",
    ")\n"
   ]
  },
  {
   "cell_type": "markdown",
   "metadata": {},
   "source": [
    "And here is the \"solution\"; note that we have also extracted from the model information about the dononrs and the receivers that will be needed to extract information from the solution to compare to the analytical solution"
   ]
  },
  {
   "cell_type": "code",
   "execution_count": null,
   "metadata": {},
   "outputs": [],
   "source": [
    "# %create_setup spl_model --default --verbose\n",
    "import xsimlab as xs\n",
    "\n",
    "ds_in = xs.create_setup(\n",
    "    model=spl_model,\n",
    "    clocks={'time': np.linspace(0,2e7,101),\n",
    "           'out': [2e7]},\n",
    "    master_clock=\"time\",\n",
    "    input_vars={\n",
    "        # nb. of grid nodes in (y, x)\n",
    "        'grid__shape': [101,101],\n",
    "        # total grid length in (y, x)\n",
    "        'grid__length': [1e5,1e5],\n",
    "        # node status at borders\n",
    "        'boundary__status': ['fixed_value','core','looped','looped'],\n",
    "        # uplift rate\n",
    "        'uplift__rate': 1e-3,\n",
    "        # bedrock channel incision coefficient\n",
    "        'spl__k_coef': 1e-7,\n",
    "        # drainage area exponent\n",
    "        'spl__area_exp': 0.8,\n",
    "        # slope exponent\n",
    "        'spl__slope_exp': 2,\n",
    "        # random seed\n",
    "        'init_topography__seed': 1234,\n",
    "    },\n",
    "    output_vars={\n",
    "        'topography__elevation': 'out',\n",
    "        'drainage__area': 'out',\n",
    "        'flow__nb_donors': 'out',\n",
    "        'flow__donors': 'out',\n",
    "        'flow__receivers': 'out'\n",
    "    }\n",
    ")\n"
   ]
  },
  {
   "cell_type": "markdown",
   "metadata": {},
   "source": [
    "Let's run the model and visualize it"
   ]
  },
  {
   "cell_type": "code",
   "execution_count": null,
   "metadata": {},
   "outputs": [],
   "source": [
    "with xs.monitoring.ProgressBar():\n",
    "    ds_out = ds_in.xsimlab.run(model=spl_model)"
   ]
  },
  {
   "cell_type": "code",
   "execution_count": null,
   "metadata": {},
   "outputs": [],
   "source": [
    "from ipyfastscape import TopoViz3d\n",
    "\n",
    "app = TopoViz3d(ds_out, canvas_height=600, time_dim=\"out\")\n",
    "\n",
    "app.components['background_color'].set_color('lightgray')\n",
    "app.components['vertical_exaggeration'].set_factor(5)\n",
    "app.components['timestepper'].go_to_time(ds_out.out[-1])\n",
    "\n",
    "app.show()"
   ]
  },
  {
   "cell_type": "markdown",
   "metadata": {},
   "source": [
    "Let's extract from the model output all the information necessary to extract the longest river profile; this includes the receiver array, the donor array, the number of donors array and the area array. We will also need the $x$- and $y$-coordinates of the nodes.\n",
    "\n",
    "There is a small issue in the xarray-simlab package that does not properly recover/transfer integer variables. So a little fix is needed to create integer arrays that will be used later in this notebook"
   ]
  },
  {
   "cell_type": "code",
   "execution_count": null,
   "metadata": {},
   "outputs": [],
   "source": [
    "rec = ds_out.flow__receivers.isel(out=-1).values.astype(int)\n",
    "rec = np.where(rec>0,rec,0)\n",
    "ndon = ds_out.flow__nb_donors.isel(out=-1).values.astype(int)\n",
    "don = ds_out.flow__donors.isel(out=-1).values.astype(int)\n",
    "area = ds_out.drainage__area.isel(out=-1).values.flatten()\n",
    "h = ds_out.topography__elevation.isel(out=-1).values.flatten()\n",
    "\n",
    "x = ds_out.x.values\n",
    "y = ds_out.y.values\n",
    "U = ds_out.uplift__rate.values\n",
    "Kf = ds_out.spl__k_coef.values\n",
    "m = ds_out.spl__area_exp.values\n",
    "n = ds_out.spl__slope_exp.values\n",
    "p = 2\n",
    "k = 0.67\n",
    "\n",
    "import Tools as tls\n",
    "river = tls.find_largest_river (area, don, ndon)\n",
    "s = tls.find_s_coordinate (river, x, y)\n",
    "chi = tls.find_chi (river, s, area, m/n)\n",
    "slope = tls.find_slopes (h, x, y, rec)\n",
    "\n",
    "X,Y = np.meshgrid(x,y)\n",
    "\n",
    "fig, ax = plt.subplots(nrows = 1, ncols = 1, sharex=False, sharey=True, figsize=(9,7))\n",
    "\n",
    "ds_out.topography__elevation.isel(out=-1).plot()\n",
    "\n",
    "plt.plot(X.flatten()[river], Y.flatten()[river])"
   ]
  },
  {
   "cell_type": "markdown",
   "metadata": {},
   "source": [
    "Let's compare the river profile to the analytical solution"
   ]
  },
  {
   "cell_type": "code",
   "execution_count": null,
   "metadata": {},
   "outputs": [],
   "source": [
    "fig, ax = plt.subplots(nrows = 1, ncols = 1, sharex=False, sharey=True, figsize=(12,7))\n",
    "\n",
    "ax.plot(s, h[river])\n",
    "\n",
    "L=s[-1]\n",
    "hmax = (U/Kf/k**m)**(1/n)*L**(1-m*p/n)\n",
    "analytical_h = (1 - (1-s/L)**(1-m*p/n))*hmax/(1-m*p/n)\n",
    "ax.plot(s, analytical_h)"
   ]
  },
  {
   "cell_type": "markdown",
   "metadata": {},
   "source": [
    "The difference is due to Hack's law; let's check it..."
   ]
  },
  {
   "cell_type": "code",
   "execution_count": null,
   "metadata": {},
   "outputs": [],
   "source": [
    "fig, ax = plt.subplots(nrows = 1, ncols = 1, sharex=False, sharey=True, figsize=(12,7))\n",
    "\n",
    "ax.plot(s,area[river])\n",
    "ax.plot(s, k*(L-s)**p)"
   ]
  },
  {
   "cell_type": "markdown",
   "metadata": {},
   "source": [
    "# Using the $\\chi$ parameter\n",
    "\n",
    "[Perron and Royden, 2013](https://onlinelibrary.wiley.com/doi/abs/10.1002/esp.3302) introduced the $\\chi$ parameter (or coordinate) which when used instead of $s$ to plot the river profile transforms it into a linear segment, if it has reached steady-state.\n",
    "\n",
    "$\\chi$ is defined as:\n",
    "\n",
    "$$\\chi(s)=\\int_0^s(\\frac{A_0}{A(s)})^{m/n}\\ ds$$\n",
    "\n",
    "where $A_0$ is a reference drainage area, usually taken as 1. We provide with a function in *Tools.py* to extract $\\chi$ from a landform, using the drainage area."
   ]
  },
  {
   "cell_type": "code",
   "execution_count": null,
   "metadata": {},
   "outputs": [],
   "source": [
    "fig, ax = plt.subplots(nrows = 1, ncols = 1, sharex=False, sharey=True, figsize=(12,7))\n",
    "\n",
    "ax.plot(chi, ds_out.topography__elevation.isel(out=-1).values.flatten()[river])"
   ]
  },
  {
   "cell_type": "markdown",
   "metadata": {},
   "source": [
    "# Checking the Slope-Area relationship\n",
    "\n",
    "At steady-state, one can write (according to the SPL) that:\n",
    "\n",
    "$$S=(U/K_f)^{1/n}A^{-m/n}$$\n",
    "\n",
    "Plotting the logarithm of slope against the logarithm of drainage area should therefore yield a linear relationship, the slope of which should be equal to the *concavity* ($m/n$). The intercept $(U/K_k)^{1/n}$ is called the profile *steepness* or $k_s$.\n",
    "\n",
    "Let's these values by regressing the logarithm of slope against the logarithm of drainage area anc comparing the slope and intercept to their expected values."
   ]
  },
  {
   "cell_type": "code",
   "execution_count": null,
   "metadata": {},
   "outputs": [],
   "source": [
    "fig, ax = plt.subplots(nrows = 1, ncols = 1, sharex=False, sharey=True, figsize=(12,7))\n",
    "\n",
    "ax.loglog(area, slope, 'o')"
   ]
  },
  {
   "cell_type": "code",
   "execution_count": null,
   "metadata": {},
   "outputs": [],
   "source": [
    "import scipy.stats as stats\n",
    "\n",
    "logslope = np.log10(slope[slope>0])\n",
    "logarea = np.log10(area[slope>0])\n",
    "res = stats.linregress(logarea, logslope)\n",
    "print('Concavity=', -res[0], 'ksn=', 10**res[1])\n",
    "print('Input concavity=', m/n, 'Input ksn =', (U/Kf)**(1/n))"
   ]
  },
  {
   "cell_type": "code",
   "execution_count": null,
   "metadata": {},
   "outputs": [],
   "source": []
  }
 ],
 "metadata": {
  "kernelspec": {
   "display_name": "Python [conda env:s2s-future-dragonstone]",
   "language": "python",
   "name": "conda-env-s2s-future-dragonstone-py"
  },
  "language_info": {
   "codemirror_mode": {
    "name": "ipython",
    "version": 3
   },
   "file_extension": ".py",
   "mimetype": "text/x-python",
   "name": "python",
   "nbconvert_exporter": "python",
   "pygments_lexer": "ipython3",
   "version": "3.8.6"
  }
 },
 "nbformat": 4,
 "nbformat_minor": 4
}
