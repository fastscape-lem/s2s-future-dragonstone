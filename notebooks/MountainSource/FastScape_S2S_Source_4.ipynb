{
 "cells": [
  {
   "cell_type": "markdown",
   "metadata": {},
   "source": [
    "# Modeling Source-to-Sink systems using FastScape: 4. Response to cyclic climate"
   ]
  },
  {
   "cell_type": "markdown",
   "metadata": {},
   "source": [
    "![Henry Mountains](HenryMountains.jpg \"Henry Mountains\")"
   ]
  },
  {
   "cell_type": "code",
   "execution_count": null,
   "metadata": {},
   "outputs": [],
   "source": [
    "import numpy as np\n",
    "import matplotlib.pyplot as plt\n",
    "#plt.style.use('dark_background')\n",
    "\n",
    "import xsimlab as xs\n",
    "import xarray as xr\n",
    "%load_ext xsimlab.ipython\n",
    "\n",
    "from fastscape.models import basic_model\n"
   ]
  },
  {
   "cell_type": "markdown",
   "metadata": {},
   "source": [
    "Here we are going to see how the source area (the mountain) reacts to cyclic perturbation in climate.\n",
    "\n",
    "To investigate how a system respond to change, it is quite common to impose a prediodic forcing and compare it to the response in terms of amplitude and phase. Note that one should always try to work with *relative* amplitudes and the phase )or time lag) should be compared to the period of forcing."
   ]
  },
  {
   "cell_type": "code",
   "execution_count": null,
   "metadata": {},
   "outputs": [],
   "source": [
    "spl_model = basic_model.drop_processes('diffusion')"
   ]
  },
  {
   "cell_type": "markdown",
   "metadata": {},
   "source": [
    "We are going to run the model for 200 time steps. The first 100 steps will be under constant climate, which will allow the mountain to reach steady-state between uplift and erosion. During the next 100 time steps, the climate is assumed to vary as a sime function of time with a given period. To make sure that the mountain has reacted to a few periods of forcing, we will set the length of the second part of the model to 5 times the period of forcing."
   ]
  },
  {
   "cell_type": "code",
   "execution_count": null,
   "metadata": {},
   "outputs": [],
   "source": [
    "m = 0.4 # area exponent in SPL\n",
    "n = 1 # slope exponent in SPL\n",
    "Kf = 1e-5 # rate coefficient in SPL\n",
    "U = 1e-3 # uplift rate\n",
    "L = 1e5\n",
    "\n",
    "nstep = 201 # total number of steps\n",
    "neq = 101 # number of steps to reach steady-state\n",
    "\n",
    "teq = 1e7 # time to reach steady-state\n",
    "period = 1e6 # period of climatic forcing\n",
    "tfinal = teq + 5*period # final time\n",
    "\n",
    "# Here we build the time array (note that not all time steps are of the same length)\n",
    "tim1 = np.linspace(0,teq,101) \n",
    "tim2 = np.linspace(teq + period/10, tfinal, 100)\n",
    "tim = np.concatenate((tim1,tim2))\n",
    "\n",
    "# build precipitation array\n",
    "precip = 1 + 0.5*np.sin(2*np.pi*(tim-teq)/period)\n",
    "\n",
    "# build Kf array and transform it into an xarray of dimension 'time'\n",
    "Kf_tim = np.where(tim>teq, Kf*precip**m, Kf)\n",
    "Kf_xr = xr.DataArray(data=Kf_tim, dims='time')\n",
    "\n",
    "fig, ax = plt.subplots(nrows = 1, ncols = 1, sharex=False, sharey=True, figsize=(12,7))\n",
    "\n",
    "ax.plot(tim, Kf_tim)"
   ]
  },
  {
   "cell_type": "code",
   "execution_count": null,
   "metadata": {},
   "outputs": [],
   "source": [
    "# %create_setup spl_model --default --verbose\n",
    "import xsimlab as xs\n",
    "\n",
    "ds_in = xs.create_setup(\n",
    "    model=spl_model,\n",
    "    clocks={'time': tim},\n",
    "    input_vars={\n",
    "        # nb. of grid nodes in (y, x)\n",
    "        'grid__shape': [101,101],\n",
    "        # total grid length in (y, x)\n",
    "        'grid__length': [L,L],\n",
    "        # node status at borders\n",
    "        'boundary__status': ['fixed_value', 'core', 'looped', 'looped'],\n",
    "        # uplift rate\n",
    "        'uplift__rate': U,\n",
    "        # random seed\n",
    "        'init_topography__seed': None,\n",
    "        # bedrock channel incision coefficient\n",
    "        'spl__k_coef': Kf_xr,\n",
    "        # drainage area exponent\n",
    "        'spl__area_exp': m,\n",
    "        # slope exponent\n",
    "        'spl__slope_exp': n,\n",
    "    },\n",
    "    output_vars={'topography__elevation': 'time'}\n",
    ")\n"
   ]
  },
  {
   "cell_type": "code",
   "execution_count": null,
   "metadata": {},
   "outputs": [],
   "source": [
    "import zarr\n",
    "zgroup = zarr.group(\"output.zarr\", overwrite=True)"
   ]
  },
  {
   "cell_type": "code",
   "execution_count": null,
   "metadata": {},
   "outputs": [],
   "source": [
    "with xs.monitoring.ProgressBar():\n",
    "    ds_out = ds_in.xsimlab.run(model=spl_model, store=zgroup)"
   ]
  },
  {
   "cell_type": "code",
   "execution_count": null,
   "metadata": {},
   "outputs": [],
   "source": [
    "from ipyfastscape import TopoViz3d\n",
    "\n",
    "app = TopoViz3d(ds_out, canvas_height=300, time_dim=\"time\")\n",
    "\n",
    "app.components['background_color'].set_color('lightgray')\n",
    "app.components['vertical_exaggeration'].set_factor(5)\n",
    "app.components['timestepper'].go_to_time(ds_out.time[-1])\n",
    "\n",
    "app.show()"
   ]
  },
  {
   "cell_type": "markdown",
   "metadata": {},
   "source": [
    "We now compute the excess flux out of the mountain by computing the rate of change of the integrated height between two time steps."
   ]
  },
  {
   "cell_type": "code",
   "execution_count": null,
   "metadata": {},
   "outputs": [],
   "source": [
    "flux = [0]\n",
    "nstep = len(ds_out.time)\n",
    "sumtop0 = ds_out.topography__elevation.isel(time=0).sum()\n",
    "for step in range(1,nstep):\n",
    "    sumtop = ds_out.topography__elevation.isel(time=step).sum()\n",
    "    flux.append(\n",
    "       (sumtop0 - sumtop)/\n",
    "        (ds_out.time.values[step] - ds_out.time.values[step-1])\n",
    "           )\n",
    "    sumtop0 = sumtop\n",
    "\n",
    "total_area = ds_out.grid__shape[0].values*ds_out.grid__shape[1].values\n",
    "flux0 = ds_out.uplift__rate.values*total_area\n",
    "flux = flux/flux0"
   ]
  },
  {
   "cell_type": "markdown",
   "metadata": {},
   "source": [
    "We plot the flux and the precipitation rate as a function of time"
   ]
  },
  {
   "cell_type": "code",
   "execution_count": null,
   "metadata": {},
   "outputs": [],
   "source": [
    "fig, ax = plt.subplots(nrows = 1, ncols = 1, sharex=False, sharey=True, figsize=(12,7))\n",
    "\n",
    "\n",
    "ax.plot(tim, flux/m, label='flux')\n",
    "ax.plot(tim, precip, label='precip')\n",
    "ax.legend()"
   ]
  },
  {
   "cell_type": "markdown",
   "metadata": {},
   "source": [
    "We compute the relative amplitude of the forcing and the response"
   ]
  },
  {
   "cell_type": "code",
   "execution_count": null,
   "metadata": {},
   "outputs": [],
   "source": [
    "mid = 101\n",
    "amp_flux = flux[mid:].max() - flux[mid:].min()\n",
    "amp_forcing = precip[mid:].max() - precip[mid:].min()\n",
    "\n",
    "print('forcing:',amp_forcing,'response:', amp_flux)\n"
   ]
  },
  {
   "cell_type": "markdown",
   "metadata": {},
   "source": [
    "We compute the time lag normalized by the period"
   ]
  },
  {
   "cell_type": "code",
   "execution_count": null,
   "metadata": {},
   "outputs": [],
   "source": [
    "print('time lag:',(tim[np.argmax(precip[180:])+180] - tim[np.argmax(flux[180:])+180])/period)"
   ]
  },
  {
   "cell_type": "markdown",
   "metadata": {},
   "source": [
    "To understand these results, see [Braun et al, 2015](https://esurf.copernicus.org/articles/3/1/2015/esurf-3-1-2015.pdf) where the response time of an orogen is defined as:\n",
    "\n",
    "$$\\tau=\\frac{L^{1-mp/n}}{K_f^{1/n}U^{1-1/n}k^{m/n}}$$"
   ]
  },
  {
   "cell_type": "code",
   "execution_count": null,
   "metadata": {},
   "outputs": [],
   "source": [
    "p = 2\n",
    "k = 0.67\n",
    "tau = ds_out.grid__length[0].values**(1-m*p/n)/Kf**(1/n)/U**(1-1/n)/k**(m/n)\n",
    "print(tau/1e6,'Myr')"
   ]
  },
  {
   "cell_type": "markdown",
   "metadata": {},
   "source": [
    "You should now rerun this notebook for different values of the forcing (climate) period and amplitude and understand the solution you obtain. You will see that for fast cyclic variations in climate (in comparison to the response time of the orogen), the flux will \"react\" with an amplification factor given by $m$ the drainage area exponent in the SPL and with no offset. As the period of forcing increases to becomse larger than the response time of the orogen, the amplitude of the flux response will progressively decreased and the time lag will increase to reach a quarter cycle/period. This is explained in details in [Braun et al, 2015](https://esurf.copernicus.org/articles/3/1/2015/esurf-3-1-2015.pdf)."
   ]
  },
  {
   "cell_type": "code",
   "execution_count": null,
   "metadata": {},
   "outputs": [],
   "source": []
  }
 ],
 "metadata": {
  "kernelspec": {
   "display_name": "Python [conda env:s2s-future-dragonstone]",
   "language": "python",
   "name": "conda-env-s2s-future-dragonstone-py"
  },
  "language_info": {
   "codemirror_mode": {
    "name": "ipython",
    "version": 3
   },
   "file_extension": ".py",
   "mimetype": "text/x-python",
   "name": "python",
   "nbconvert_exporter": "python",
   "pygments_lexer": "ipython3",
   "version": "3.8.6"
  }
 },
 "nbformat": 4,
 "nbformat_minor": 4
}
