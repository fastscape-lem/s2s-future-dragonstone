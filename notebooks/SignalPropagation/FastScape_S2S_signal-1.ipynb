{
 "cells": [
  {
   "cell_type": "code",
   "execution_count": null,
   "metadata": {},
   "outputs": [],
   "source": [
    "from fastscape.models import sediment_model\n",
    "import xsimlab as xs\n",
    "import xarray as xr\n",
    "import numpy as np\n",
    "\n",
    "import zarr\n",
    "from ipyfastscape import TopoViz3d\n",
    "import matplotlib.pyplot as plt\n",
    "#plt.style.use('dark_background')\n",
    "import hvplot.xarray\n",
    "\n",
    "import dask"
   ]
  },
  {
   "cell_type": "code",
   "execution_count": null,
   "metadata": {},
   "outputs": [],
   "source": [
    "sediment_model.visualize(show_inputs=True)"
   ]
  },
  {
   "cell_type": "markdown",
   "metadata": {},
   "source": [
    "**Source to Sink model**\n",
    "\n",
    "We predict the evolution of a source to sink system using the FastScape library. For this, we model an area experiencing uplift in one third of the modeled area and subsidence in the other two thirds. This represent a system composed of an uplifting mountain and an adjacent subsiding foreland basin. The uplift is uniform in the mountain while the subsidence in the basin decreases linearly from the mountain front to the edge of the basin/model.\n",
    "\n",
    "The flux computed from FastScape will then be used as input for another (more recent) 1D marine deposition model that allows to reproduce more accurately deep water sedimentation. Note that this model is in the process of being published by its author, Charlie Shobe. You should therefore refrained from copying/distributing it.\n",
    "\n",
    "With this setup we will investigate how a cyclic variation in precipitation rate is transmitted form the mountain area to the sedimentary basin and beyond.\n"
   ]
  },
  {
   "cell_type": "markdown",
   "metadata": {},
   "source": [
    "**Periodic_Forcing Process**\n",
    "\n",
    "We create a process to allow for the parameters depending on precipitation (Kf and G) to be made periodic functions of time.<br>\n",
    "The inputs are a period and amplitude."
   ]
  },
  {
   "cell_type": "code",
   "execution_count": null,
   "metadata": {},
   "outputs": [],
   "source": [
    "from fastscape.processes import (DifferentialStreamPowerChannelTD)\n",
    "\n",
    "@xs.process\n",
    "class Periodic_Forcing:\n",
    "\n",
    "    period = xs.variable(intent=\"inout\", description=\"period of relative precipitation rate\", attrs={\"units\": \"yrs\"})\n",
    "    amplitude = xs.variable(intent=\"inout\", description=\"amplitude relative precipitation rate\", attrs={\"units\": \"dimensionless\"})\n",
    "    \n",
    "    k0_coef_bedrock = xs.variable(intent=\"in\", description=\"erodibility (rate coefficient) for bedrock\", attrs={\"units\": \"m^(2-m)/yr\"})\n",
    "    k0_coef_soil = xs.variable(intent=\"in\", description=\"erodibility (rate coefficient) for soil\", attrs={\"units\": \"m^(2-m)/yr\"})\n",
    "    g0_coef_bedrock = xs.variable(intent=\"in\", description=\"transport coefficient for bedrock\", attrs={\"units\": \"dimensionless\"})\n",
    "    g0_coef_soil = xs.variable(intent=\"in\", description=\"transport coefficient for bedrock\", attrs={\"units\": \"dimensionless\"})\n",
    "\n",
    "    m = xs.foreign(DifferentialStreamPowerChannelTD, 'area_exp', intent='in')\n",
    "    k_coef_bedrock = xs.foreign(DifferentialStreamPowerChannelTD, 'k_coef_bedrock', intent='out')\n",
    "    k_coef_soil = xs.foreign(DifferentialStreamPowerChannelTD, 'k_coef_soil', intent='out')\n",
    "    g_coef_bedrock = xs.foreign(DifferentialStreamPowerChannelTD, 'g_coef_bedrock', intent='out')\n",
    "    g_coef_soil = xs.foreign(DifferentialStreamPowerChannelTD, 'g_coef_soil', intent='out')\n",
    "\n",
    "    rate = xs.variable(dims=(), static=False, intent=\"out\", description=\"relative precipitation rate\", attrs={\"units\": \"dimensionless\"})\n",
    "\n",
    "    @xs.runtime(args=\"nsteps\")\n",
    "    def initialize(self, nsteps):\n",
    "        self.rate = np.empty(nsteps)\n",
    "    \n",
    "    @xs.runtime(args=(\"step_start\",\"step\"))\n",
    "    def run_step(self, tim, iout):\n",
    "        precip = (1+self.amplitude + self.amplitude*np.sin(2*np.pi*tim/self.period))**5\n",
    "        self.k_coef_bedrock = self.k0_coef_bedrock*precip**self.m\n",
    "        self.k_coef_soil = self.k0_coef_soil*precip**self.m\n",
    "        self.g_coef_bedrock = self.g0_coef_bedrock/precip\n",
    "        self.g_coef_soil = self.g0_coef_soil/precip\n",
    "        self.rate = precip\n"
   ]
  },
  {
   "cell_type": "markdown",
   "metadata": {},
   "source": [
    "**DualUplift Process**\n",
    "\n",
    "We create a process to prescribe an uplift function made of an uplift block next to a subsiding basin.<br>\n",
    "The inputs are an uplift rate, a subsidence rate and the position in the x-direction of the boundary between the two."
   ]
  },
  {
   "cell_type": "code",
   "execution_count": null,
   "metadata": {},
   "outputs": [],
   "source": [
    "from fastscape.processes import (BlockUplift, RasterGrid2D)\n",
    "\n",
    "@xs.process\n",
    "class DualUplift:\n",
    "\n",
    "    up = xs.variable(intent=\"inout\", description=\"uplift rate\", attrs={\"units\": \"m/yrs\"})\n",
    "    down = xs.variable(intent=\"inout\", description=\"subsidence rate\", attrs={\"units\": \"m/yrs\"})\n",
    "    xlim = xs.variable(intent=\"inout\", description=\"boundary between mountain and basin\", attrs={\"units\": \"m\"})\n",
    "        \n",
    "    uplift_rate = xs.foreign(BlockUplift, 'rate', intent='out')\n",
    "    x = xs.foreign(RasterGrid2D, 'x')\n",
    "    y = xs.foreign(RasterGrid2D, 'y')\n",
    "\n",
    "    def initialize(self):\n",
    "        X, Y = np.meshgrid(self.x, self.y)\n",
    "        self.uplift_rate= np.where(X > self.xlim, self.up, -X/self.xlim*self.down)"
   ]
  },
  {
   "cell_type": "markdown",
   "metadata": {},
   "source": [
    "**Wells Process**\n",
    "\n",
    "We create a process that's going to record topographic and uplift/subsidence rate information at all time steps (not just the output time steps) but only for a limited number of wells"
   ]
  },
  {
   "cell_type": "code",
   "execution_count": null,
   "metadata": {},
   "outputs": [],
   "source": [
    "from fastscape.processes import (SurfaceTopography, RasterGrid2D)\n",
    "\n",
    "@xs.process\n",
    "class Wells:\n",
    "\n",
    "    strati = xs.variable(dims=(\"wells\",), static=False, intent=\"out\", description=\"erosion rate\", attrs={\"units\": \"m/yr\"})\n",
    "    rate = xs.variable(dims=(\"wells\",), static=False, intent=\"out\", description=\"erosion rate\", attrs={\"units\": \"m/yr\"})\n",
    "    \n",
    "    wellx = xs.variable(dims=\"well\", intent=\"in\")\n",
    "    welly = xs.variable(dims=\"well\", intent=\"in\")\n",
    "    \n",
    "    x = xs.foreign(RasterGrid2D, 'x')\n",
    "    y = xs.foreign(RasterGrid2D, 'y')\n",
    "    h = xs.foreign(SurfaceTopography, 'elevation', intent=\"in\")\n",
    "    uplift_rate = xs.foreign(BlockUplift, 'rate', intent='in')\n",
    "\n",
    "    @xs.runtime(args=\"nsteps\")\n",
    "    def initialize(self, nsteps):\n",
    "        self.ix = np.searchsorted(self.x, self.wellx)\n",
    "        self.iy = np.searchsorted(self.y, self.welly)\n",
    "        self.nwells = len(self.ix)\n",
    "        self.rate = np.zeros((self.nwells,nsteps))\n",
    "        self.strati = np.zeros((self.nwells,nsteps))\n",
    "\n",
    "    def run_step(self):\n",
    "        self.strati = self.h[self.iy, self.ix]\n",
    "        self.rate = self.uplift_rate[self.iy, self.ix]\n",
    "        "
   ]
  },
  {
   "cell_type": "markdown",
   "metadata": {},
   "source": [
    "# FLux Process\n",
    "\n",
    "To output the flux out of the model for input into the new 1D marine model developed by Charlie Sobe"
   ]
  },
  {
   "cell_type": "code",
   "execution_count": null,
   "metadata": {},
   "outputs": [],
   "source": [
    "from fastscape.processes import (SurfaceTopography, RasterGrid2D)\n",
    "\n",
    "@xs.process\n",
    "class Flux:\n",
    "    \n",
    "    out = xs.variable(dims=(), static=False, intent=\"out\", description=\"sediment flux\", attrs={\"units\": \"km^3/yr\"})\n",
    "    h = xs.foreign(SurfaceTopography, 'elevation', intent=\"in\")\n",
    "    u = xs.foreign(DualUplift, 'uplift_rate', intent=\"in\")\n",
    "    a = xs.foreign(RasterGrid2D, 'cell_area', intent=\"in\")\n",
    "\n",
    "    @xs.runtime(args=\"nsteps\")\n",
    "    def initialize(self, nsteps):\n",
    "        self.out = np.zeros(nsteps)\n",
    "        self.prev_dh = 0\n",
    "\n",
    "    @xs.runtime(args=(\"step_delta\"))\n",
    "    def run_step(self, dt):\n",
    "        dh = np.sum(self.h)\n",
    "        self.out = (np.sum(self.u) - (dh-self.prev_dh)/dt)*self.a\n",
    "#        print(self.a, (dh - self.prev_dh)/dt, np.sum(self.u))\n",
    "        self.prev_dh = dh\n",
    "\n"
   ]
  },
  {
   "cell_type": "markdown",
   "metadata": {},
   "source": [
    "**Model build**\n",
    "\n",
    "We build the model by removing the diffusion component, adding our new process (SPL_Parameters) and selecting multiple flow direction for the drainage area computation (with $p=1$)."
   ]
  },
  {
   "cell_type": "code",
   "execution_count": null,
   "metadata": {},
   "outputs": [],
   "source": [
    "from fastscape.processes import (MultipleFlowRouter)\n",
    "\n",
    "TwoD_model = sediment_model.drop_processes('diffusion').update_processes({'forcing': Periodic_Forcing,\n",
    "                                                                          'dualuplift': DualUplift, 'wells': Wells,\n",
    "                                                                          'flow': MultipleFlowRouter,\n",
    "                                                                          'flux': Flux})\n",
    "\n",
    "TwoD_model.visualize()"
   ]
  },
  {
   "cell_type": "markdown",
   "metadata": {},
   "source": [
    "**Model setup**\n",
    "\n",
    "The model is size $nx\\times nx$ and the first $nxb$ nodes are set to uplift while the others are subsiding.<br>\n",
    "Number of time steps is $ntime$ and the number of output is $nout$. Total model run is 10 Myr.<br>\n",
    "Numbr of wells is nwell"
   ]
  },
  {
   "cell_type": "code",
   "execution_count": null,
   "metadata": {},
   "outputs": [],
   "source": [
    "nx = 101\n",
    "ny = 51\n",
    "nxb = int(2*nx/3)\n",
    "\n",
    "xl = 100e3\n",
    "yl = 50e3\n",
    "xlim = xl*2/3\n",
    "\n",
    "ntime = 1001\n",
    "nout = 101\n",
    "nwell = 9\n"
   ]
  },
  {
   "cell_type": "markdown",
   "metadata": {},
   "source": [
    "**Model input**\n",
    "\n",
    "Model input is built using input parameters and others, such as the reference values for Kf, G, m and n, and the size of the model (100x100 km).<br>\n",
    "Boundary conditions are cyclic in the $y$-direction, no flux at $x=0$ and fixed (base level) at $x=L$.\n",
    "\n",
    "Now that we have defined a function that takes the period of the climate variations as an input parameter, we can use xsimlab's batch computing optino. If one of the input variables is defined by an array of values with the dimension \"batch\", at execution, the model will be run as many times as the length of the batch dimension. This will also be done in parallel (using different processors/cores on the computer) if the *parallel* option is activated in the run command. Note that for this to happen, we must import/install *dask*."
   ]
  },
  {
   "cell_type": "code",
   "execution_count": null,
   "metadata": {},
   "outputs": [],
   "source": [
    "in_2D_ds = xs.create_setup(\n",
    "    model=TwoD_model,\n",
    "    clocks={\n",
    "        'time': np.linspace(0, 1e7, ntime),\n",
    "        'out': np.linspace(0, 1e7, nout)\n",
    "    },\n",
    "    master_clock='time',\n",
    "    input_vars={\n",
    "        'grid__shape': [ny, nx],\n",
    "        'grid__length': [yl, xl],\n",
    "        'boundary__status': ['fixed_value','core','looped','looped'],\n",
    "        'dualuplift__up': 3e-3,\n",
    "        'dualuplift__down': 1e-4,#('batch', 10**np.linspace(-5,-3,24)),\n",
    "        'dualuplift__xlim': xlim,\n",
    "        'forcing__period': ('batch', [2.e5,1e6,5.e6]),\n",
    "        'forcing__amplitude': 0.5,\n",
    "        'forcing__k0_coef_soil': 1e-5,\n",
    "        'forcing__k0_coef_bedrock': 1e-5,\n",
    "        'forcing__g0_coef_soil': 1,\n",
    "        'forcing__g0_coef_bedrock': 1,\n",
    "        'spl__slope_exp': 1,\n",
    "        'spl__area_exp': 0.4,\n",
    "        'flow__slope_exp': 1,\n",
    "        'wells__wellx': np.linspace(0,xlim,nwell+2)[1:-1],\n",
    "        'wells__welly': np.ones(nwell)*yl/2\n",
    "    },\n",
    "    output_vars={\n",
    "        'topography__elevation':  'out',\n",
    "        'drainage__area': 'out',\n",
    "        'forcing__rate': 'time',\n",
    "        'wells__rate': 'time',\n",
    "        'wells__strati': 'time',\n",
    "        'dualuplift__uplift_rate': 'out',\n",
    "        'flux__out': 'time'\n",
    "    }\n",
    ")"
   ]
  },
  {
   "cell_type": "code",
   "execution_count": null,
   "metadata": {},
   "outputs": [],
   "source": [
    "zgroup = zarr.group(\"out.zarr\", overwrite=True)"
   ]
  },
  {
   "cell_type": "markdown",
   "metadata": {},
   "source": [
    "**Model execution**\n",
    "\n",
    "We run the model (which can take up to a few minutes depending on computer spped)."
   ]
  },
  {
   "cell_type": "code",
   "execution_count": null,
   "metadata": {},
   "outputs": [],
   "source": [
    "#with xs.monitoring.ProgressBar():\n",
    "out_2D_ds = in_2D_ds.xsimlab.run(model=TwoD_model, store=zgroup, batch_dim='batch', parallel=True, scheduler=\"processes\")"
   ]
  },
  {
   "cell_type": "markdown",
   "metadata": {},
   "source": [
    "**Display Results**\n",
    "\n",
    "We display the model results in 3D including topography and drainage area."
   ]
  },
  {
   "cell_type": "code",
   "execution_count": null,
   "metadata": {},
   "outputs": [],
   "source": [
    "app = TopoViz3d(out_2D_ds, canvas_height=600, time_dim=\"out\")\n",
    "\n",
    "app.components['background_color'].set_color('lightgray')\n",
    "app.components['vertical_exaggeration'].set_factor(5)\n",
    "app.components['timestepper'].go_to_time(out_2D_ds.out[-1])\n",
    "\n",
    "app.show()"
   ]
  },
  {
   "cell_type": "markdown",
   "metadata": {},
   "source": [
    "**Compute stratigraphy**\n",
    "\n",
    "We compute a stratigraphy along a cross-section at the center of the model.<br>\n",
    "We also compute the flux out of the model (into the ocean), the flux out of the mountain and the maximum topography of the mountain as a function of time.\n",
    "Note that the following graphic operations are performed for only one of the three batch models. To specify which one, use ibatch in the next cell."
   ]
  },
  {
   "cell_type": "code",
   "execution_count": null,
   "metadata": {},
   "outputs": [],
   "source": [
    "ibatch = 1\n",
    "ymean = out_2D_ds.y.mean().values"
   ]
  },
  {
   "cell_type": "code",
   "execution_count": null,
   "metadata": {},
   "outputs": [],
   "source": [
    "def compute_strati (ds, ymean):\n",
    "    \n",
    "    nout, nx = ds.topography__elevation.sel(y=ymean).values.shape\n",
    "    strati = ds.topography__elevation.sel(y=ymean).values\n",
    "    dt = (ds.out[1:].values - ds.out[:-1].values)\n",
    "\n",
    "    for jout in range(1,nout):\n",
    "        strati[:jout-1,:] = strati[:jout-1,:] + ds.dualuplift__uplift_rate.isel(out=jout).sel(y=ymean).values*dt[jout-1]\n",
    "\n",
    "    for iout in range(nout-2, -1, -1):\n",
    "        strati[iout,:] = np.minimum(strati[iout,:], strati[iout+1,:])\n",
    "\n",
    "    return strati\n"
   ]
  },
  {
   "cell_type": "code",
   "execution_count": null,
   "metadata": {},
   "outputs": [],
   "source": [
    "strati_2D = compute_strati (out_2D_ds.isel(batch=ibatch), ymean)"
   ]
  },
  {
   "cell_type": "markdown",
   "metadata": {},
   "source": [
    "We plot the 2D stratigraphy in the middle of the basin, as a synthetic seismic line and as a series of wells, one every four nodes"
   ]
  },
  {
   "cell_type": "code",
   "execution_count": null,
   "metadata": {},
   "outputs": [],
   "source": [
    "fig, ax = plt.subplots(nrows = 1, ncols = 2, sharex=False, sharey=True, figsize=(32,16))\n",
    "\n",
    "nfreq_reflector = 1\n",
    "\n",
    "colors = plt.cm.jet(np.linspace(0,1,nout))\n",
    "for iout in range(nout-1, -1, -nfreq_reflector):\n",
    "    ax[0].fill_between(out_2D_ds.sel(y=ymean).x[0:nxb], strati_2D[iout,0:nxb], strati_2D[0,0:nxb], color=colors[iout])\n",
    "    ax[0].plot(out_2D_ds.sel(y=ymean).x[0:nxb], strati_2D[iout,0:nxb], color='darkgrey')\n",
    "\n",
    "ymin = strati_2D[:,nxb-1].min()\n",
    "ymax = strati_2D[:,nxb-1].max()\n",
    "ax[0].set_ylim((ymin,ymax))\n",
    "\n",
    "for iwell in range(0,nxb, 4):\n",
    "    for iout in range(nout-1, -1, -nfreq_reflector):\n",
    "        ax[1].fill_between((iwell, iwell+1), (strati_2D[iout,iwell],strati_2D[iout,iwell]), (strati_2D[0,iwell],strati_2D[0,iwell]), color=colors[iout])\n",
    "        ax[1].plot((iwell, iwell+1), (strati_2D[iout,iwell],strati_2D[iout,iwell]), color='darkgrey')\n"
   ]
  },
  {
   "cell_type": "markdown",
   "metadata": {},
   "source": [
    "We display the resulting stratigraphic column showing erosion rate estimated from layers thickness as a function of time. This is equivalent to assuming that we can measure the thickness of all preserved layers and assess their age with infinite precition"
   ]
  },
  {
   "cell_type": "markdown",
   "metadata": {},
   "source": [
    "Function to compute sedimentation rate in a series of wells located in the basin"
   ]
  },
  {
   "cell_type": "code",
   "execution_count": null,
   "metadata": {},
   "outputs": [],
   "source": [
    "def compute_well_strati (ds):\n",
    "    \n",
    "    ntime, nwell =  ds.wells__strati.shape\n",
    "    strati = ds.wells__strati.values\n",
    "    sedim_rate = np.empty((ntime-1, nwell))\n",
    "    dt = (ds.time[1:].values - ds.time[:-1].values)\n",
    "\n",
    "    for jout in range(1,ntime):\n",
    "        strati[:jout-1,:] = strati[:jout-1,:] + ds.wells__rate.isel(time=jout).values*dt[jout-1]\n",
    "\n",
    "    for iout in range(ntime-2, -1, -1):\n",
    "        strati[iout,:] = np.minimum(strati[iout,:], strati[iout+1,:])\n",
    "\n",
    "    for well in range(nwell):\n",
    "        sedim_rate[:,well] = (strati[1:,well] - strati[:-1,well])/dt\n",
    "\n",
    "    return sedim_rate\n"
   ]
  },
  {
   "cell_type": "code",
   "execution_count": null,
   "metadata": {},
   "outputs": [],
   "source": [
    "sedim = compute_well_strati(out_2D_ds.isel(batch=ibatch))"
   ]
  },
  {
   "cell_type": "markdown",
   "metadata": {},
   "source": [
    "Compute fluxes out of the system, out of the mountain, channel mobility and maximum topography as a function of time for display/comparison with well deposition rate"
   ]
  },
  {
   "cell_type": "code",
   "execution_count": null,
   "metadata": {},
   "outputs": [],
   "source": [
    "u2D = out_2D_ds.dualuplift__uplift_rate.isel(batch=ibatch).values\n",
    "topo = out_2D_ds.topography__elevation.isel(batch=ibatch).values\n",
    "area = out_2D_ds.drainage__area.isel(batch=ibatch).values\n",
    "\n",
    "flux_out_2D = np.sum(np.sum(u2D[1:,:,:],1),1)-np.sum(np.sum(topo[1:,:,:] - topo[:-1,:,:], 1), 1)/(out_2D_ds.out.values[1:] - out_2D_ds.out.values[:-1])\n",
    "flux_out_mountain = np.sum(np.sum(u2D[1:,:,nxb:],1),1)-np.sum(np.sum(topo[1:,:,nxb:] - topo[:-1,:,nxb:], 1), 1)/(out_2D_ds.out.values[1:] - out_2D_ds.out.values[:-1])\n",
    "channel_mobility = np.sum(np.abs(area[1:,:, int(nxb/2)]-area[:-1,:, int(nxb/2)]),1)/(out_2D_ds.out.values[1:] - out_2D_ds.out.values[:-1])\n",
    "\n",
    "topo_2D = topo.max(1).max(1)"
   ]
  },
  {
   "cell_type": "code",
   "execution_count": null,
   "metadata": {},
   "outputs": [],
   "source": [
    "fig, ax = plt.subplots(nrows = 1, ncols = nwell+4, sharex=False, sharey=True, figsize=(32,16))\n",
    "\n",
    "precip = out_2D_ds.forcing__rate.isel(batch=ibatch)\n",
    "tmax = out_2D_ds.time.values.max()\n",
    "time = tmax - out_2D_ds.time.values\n",
    "out = tmax - out_2D_ds.out.values\n",
    "\n",
    "for well in range(nwell):\n",
    "    kwell = well + 1\n",
    "    ax[kwell].plot(precip/precip.max()*sedim[:,well].max(), time, alpha=0.5)\n",
    "    ax[kwell].plot(sedim[:,well], time[:-1])\n",
    "    ax[kwell].set_ylim(tmax,0)\n",
    "    ax[kwell].set_title(\"Well \"+str(kwell))\n",
    "\n",
    "ax[0].plot(precip/precip.max()*flux_out_2D.max(), time, alpha=0.5)\n",
    "ax[0].plot(flux_out_2D, out[:-1])\n",
    "ax[0].set_ylim(tmax,0)\n",
    "ax[0].set_title(\"Flux out\")\n",
    "\n",
    "ax[-3].plot(precip/precip.max()*channel_mobility.max(), time, alpha=0.5)\n",
    "ax[-3].plot(channel_mobility, out[:-1])\n",
    "ax[-3].set_ylim(tmax,0)\n",
    "ax[-3].set_title(\"Channel mobility\")\n",
    "\n",
    "ax[-2].plot(precip/precip.max()*flux_out_mountain.max(), time, alpha=0.5)\n",
    "ax[-2].plot(flux_out_mountain, out[:-1])\n",
    "ax[-2].set_ylim(tmax,0)\n",
    "ax[-2].set_title(\"Flux mountain\")\n",
    "\n",
    "ax[-1].plot(precip/precip.max()*topo_2D.max(), time, alpha=0.5)\n",
    "ax[-1].plot(topo_2D, out)\n",
    "ax[-1].set_ylim(tmax,0)\n",
    "ax[-1].set_title(\"Topo\")\n",
    "\n",
    "ax[0].set_ylabel(\"Time b.p. (yr)\");"
   ]
  },
  {
   "cell_type": "code",
   "execution_count": null,
   "metadata": {},
   "outputs": [],
   "source": [
    "import Charlie_Model"
   ]
  },
  {
   "cell_type": "code",
   "execution_count": null,
   "metadata": {},
   "outputs": [],
   "source": [
    "Charlie_Model.marine.visualize(show_inputs=True)"
   ]
  },
  {
   "cell_type": "markdown",
   "metadata": {},
   "source": [
    "We now prepare a setup consisting of a basement geometry made of a steep ramp down next to a less steep ramp up.\n",
    "\n",
    "We also transform the flux output into an output for the marine model.\n",
    "\n",
    "We display both.\n",
    "\n",
    "We also prepare a sea level array to transform the periodic climate fluctuations (forcing) into a sea level signal. We change the sign of the climate signal (high precipitation assumed during cold period and thus low sea level) but this could be reversed, depending on the region of Earth that is modeled.\n"
   ]
  },
  {
   "cell_type": "code",
   "execution_count": null,
   "metadata": {},
   "outputs": [],
   "source": [
    "length = 1e6\n",
    "spacing = length/nx\n",
    "\n",
    "br = -np.ones((ntime, nx))*6e3\n",
    "nxflat = int(nx/5)\n",
    "br[:,:nxflat] = np.linspace(0,-6.e3,nxflat)\n",
    "br[:,nxflat:] = np.linspace(-6.e3,-5.e3,nx-nxflat)\n",
    "\n",
    "bedrock_elev_array = xr.DataArray(br, dims=['time', 'x'])\n",
    "initial_bedrock = bedrock_elev_array[0, :]\n",
    "\n",
    "qs_array = xr.DataArray(np.where(out_2D_ds.flux__out.isel(batch=ibatch).values>0,\n",
    "                                 out_2D_ds.flux__out.isel(batch=ibatch).values,0), dims=['time'])\n",
    "\n",
    "sea_level = xr.DataArray(-4*out_2D_ds.forcing__rate.isel(batch=ibatch).values, dims=['time'])\n",
    "\n",
    "fig, ax = plt.subplots(nrows = 1, ncols = 2, sharex=False, sharey=False, figsize=(32,10))\n",
    "\n",
    "ax[0].plot(initial_bedrock)\n",
    "ax[1].plot(qs_array)\n",
    "\n",
    "noutp = nout"
   ]
  },
  {
   "cell_type": "markdown",
   "metadata": {},
   "source": [
    "Now we prepare the model setup and run it."
   ]
  },
  {
   "cell_type": "code",
   "execution_count": null,
   "metadata": {},
   "outputs": [],
   "source": [
    "in_ds = xs.create_setup(\n",
    "   ...:     model=Charlie_Model.marine,\n",
    "   ...:     clocks={\n",
    "   ...:         'time': np.linspace(0, 1e7, ntime),\n",
    "   ...:         'otime': np.linspace(0, 1e7, noutp)\n",
    "   ...:     },\n",
    "   ...:     master_clock='time',\n",
    "   ...:     input_vars={\n",
    "   ...:         'grid': {'length': length, 'spacing': spacing},\n",
    "                'init': {'init_br': initial_bedrock},\n",
    "                'erode': {\n",
    "                    'k_factor': 0.2,\n",
    "                    'k_depth_scale': 100.,\n",
    "                    's_crit': 0.05,\n",
    "                    'travel_dist': 200000.,\n",
    "                    'sed_porosity': 0.56,\n",
    "                    'sed_porosity_depth_scale': 2830.,\n",
    "                    'sea_level': sea_level,\n",
    "                    'qs_in': qs_array,\n",
    "                    'basin_width': 1e5\n",
    "                },\n",
    "                'profile': {\n",
    "                    'br': bedrock_elev_array\n",
    "                },\n",
    "   },\n",
    "            output_vars={'profile__z': 'otime', 'profile__br': 'otime', 'profile__h': 'otime'}\n",
    ")"
   ]
  },
  {
   "cell_type": "code",
   "execution_count": null,
   "metadata": {},
   "outputs": [],
   "source": [
    "zgroup_marine = zarr.group(\"out_Marine.zarr\", overwrite=True)\n"
   ]
  },
  {
   "cell_type": "code",
   "execution_count": null,
   "metadata": {},
   "outputs": [],
   "source": [
    "with xs.monitoring.ProgressBar():\n",
    "    out_ds = in_ds.xsimlab.run(model=Charlie_Model.marine, store=zgroup_marine)"
   ]
  },
  {
   "cell_type": "markdown",
   "metadata": {},
   "source": [
    "We compute the 1D stratigraphy"
   ]
  },
  {
   "cell_type": "code",
   "execution_count": null,
   "metadata": {},
   "outputs": [],
   "source": [
    "strati = np.zeros((noutp,nx))\n",
    "for iout in range(noutp):\n",
    "    strati[iout,:] = out_ds.profile__z.isel(otime=iout)\n",
    "for iout in range(noutp-2, -1, -1):\n",
    "    strati[iout,:] = np.minimum(strati[iout,:], strati[iout+1,:])\n"
   ]
  },
  {
   "cell_type": "markdown",
   "metadata": {},
   "source": [
    "And plot it"
   ]
  },
  {
   "cell_type": "code",
   "execution_count": null,
   "metadata": {},
   "outputs": [],
   "source": [
    "fig, ax = plt.subplots(nrows = 2, ncols = 1, sharex=False, sharey=False, figsize=(32,20))\n",
    "\n",
    "colors = plt.cm.rainbow(np.linspace(0,1,noutp))\n",
    "\n",
    "for iout in range(noutp-1, -1, -5):\n",
    "    ax[0].fill_between(out_ds.x, out_ds.profile__br[iout,:], strati[iout,:], color=colors[iout])\n",
    "    ax[0].plot(out_ds.x, strati[iout,:], color='darkgrey')\n",
    "    \n",
    "for iout in range(noutp-1, -1, -2):\n",
    "    ax[1].fill_between(out_ds.x, out_ds.profile__br[iout,:], strati[iout,:], color=colors[iout])\n",
    "    ax[1].plot(out_ds.x, strati[iout,:], color='darkgrey')\n",
    "    \n",
    "ax[1].set_xlim((0, 200e3))\n",
    "ax[1].set_ylim((-1e3, 0));"
   ]
  },
  {
   "cell_type": "code",
   "execution_count": null,
   "metadata": {},
   "outputs": [],
   "source": []
  }
 ],
 "metadata": {
  "kernelspec": {
   "display_name": "Python [conda env:s2s-future-dragonstone]",
   "language": "python",
   "name": "conda-env-s2s-future-dragonstone-py"
  },
  "language_info": {
   "codemirror_mode": {
    "name": "ipython",
    "version": 3
   },
   "file_extension": ".py",
   "mimetype": "text/x-python",
   "name": "python",
   "nbconvert_exporter": "python",
   "pygments_lexer": "ipython3",
   "version": "3.8.6"
  }
 },
 "nbformat": 4,
 "nbformat_minor": 4
}
